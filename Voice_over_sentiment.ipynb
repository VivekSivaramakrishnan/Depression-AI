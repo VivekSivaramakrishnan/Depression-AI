{
  "nbformat": 4,
  "nbformat_minor": 0,
  "metadata": {
    "colab": {
      "name": "Voice-over sentiment.ipynb",
      "version": "0.3.2",
      "provenance": [],
      "collapsed_sections": [],
      "include_colab_link": true
    },
    "kernelspec": {
      "name": "python3",
      "display_name": "Python 3"
    }
  },
  "cells": [
    {
      "cell_type": "markdown",
      "metadata": {
        "id": "view-in-github",
        "colab_type": "text"
      },
      "source": [
        "<a href=\"https://colab.research.google.com/github/VivekSivaramakrishnan/Depression-AI/blob/master/Voice_over_sentiment.ipynb\" target=\"_parent\"><img src=\"https://colab.research.google.com/assets/colab-badge.svg\" alt=\"Open In Colab\"/></a>"
      ]
    },
    {
      "metadata": {
        "id": "UAGdxPstm9Ug",
        "colab_type": "code",
        "outputId": "2af65115-db98-46e0-b35f-9e2ffbe59a67",
        "colab": {
          "base_uri": "https://localhost:8080/",
          "height": 223
        }
      },
      "cell_type": "code",
      "source": [
        "!wget 'https://zenodo.org/record/1188976/files/Audio_Speech_Actors_01-24.zip?download=1'"
      ],
      "execution_count": 0,
      "outputs": [
        {
          "output_type": "stream",
          "text": [
            "--2019-03-16 10:01:06--  https://zenodo.org/record/1188976/files/Audio_Speech_Actors_01-24.zip?download=1\n",
            "Resolving zenodo.org (zenodo.org)... 137.138.76.77\n",
            "Connecting to zenodo.org (zenodo.org)|137.138.76.77|:443... connected.\n",
            "HTTP request sent, awaiting response... 200 OK\n",
            "Length: 208468073 (199M) [application/octet-stream]\n",
            "Saving to: ‘Audio_Speech_Actors_01-24.zip?download=1’\n",
            "\n",
            "Audio_Speech_Actors 100%[===================>] 198.81M  16.8MB/s    in 33s     \n",
            "\n",
            "2019-03-16 10:01:45 (6.01 MB/s) - ‘Audio_Speech_Actors_01-24.zip?download=1’ saved [208468073/208468073]\n",
            "\n"
          ],
          "name": "stdout"
        }
      ]
    },
    {
      "metadata": {
        "id": "QvQaW8No_adE",
        "colab_type": "code",
        "colab": {}
      },
      "cell_type": "code",
      "source": [
        "import zipfile\n",
        "with zipfile.ZipFile(\"Audio_Speech_Actors_01-24.zip?download=1\",\"r\") as zip_ref:\n",
        "    zip_ref.extractall(\"Folder/\")"
      ],
      "execution_count": 0,
      "outputs": []
    },
    {
      "metadata": {
        "id": "mw8XjAVM_nww",
        "colab_type": "code",
        "outputId": "30babd73-f951-4df6-88b3-34aee3a54f11",
        "colab": {
          "base_uri": "https://localhost:8080/",
          "height": 448
        }
      },
      "cell_type": "code",
      "source": [
        "!ls Folder\n",
        "!ls Folder/Actor_01"
      ],
      "execution_count": 0,
      "outputs": [
        {
          "output_type": "stream",
          "text": [
            "Actor_01  Actor_04  Actor_07  Actor_10\tActor_13  Actor_16  Actor_19  Actor_22\n",
            "Actor_02  Actor_05  Actor_08  Actor_11\tActor_14  Actor_17  Actor_20  Actor_23\n",
            "Actor_03  Actor_06  Actor_09  Actor_12\tActor_15  Actor_18  Actor_21  Actor_24\n",
            "03-01-01-01-01-01-01.wav  03-01-04-01-01-01-01.wav  03-01-06-02-01-01-01.wav\n",
            "03-01-01-01-01-02-01.wav  03-01-04-01-01-02-01.wav  03-01-06-02-01-02-01.wav\n",
            "03-01-01-01-02-01-01.wav  03-01-04-01-02-01-01.wav  03-01-06-02-02-01-01.wav\n",
            "03-01-01-01-02-02-01.wav  03-01-04-01-02-02-01.wav  03-01-06-02-02-02-01.wav\n",
            "03-01-02-01-01-01-01.wav  03-01-04-02-01-01-01.wav  03-01-07-01-01-01-01.wav\n",
            "03-01-02-01-01-02-01.wav  03-01-04-02-01-02-01.wav  03-01-07-01-01-02-01.wav\n",
            "03-01-02-01-02-01-01.wav  03-01-04-02-02-01-01.wav  03-01-07-01-02-01-01.wav\n",
            "03-01-02-01-02-02-01.wav  03-01-04-02-02-02-01.wav  03-01-07-01-02-02-01.wav\n",
            "03-01-02-02-01-01-01.wav  03-01-05-01-01-01-01.wav  03-01-07-02-01-01-01.wav\n",
            "03-01-02-02-01-02-01.wav  03-01-05-01-01-02-01.wav  03-01-07-02-01-02-01.wav\n",
            "03-01-02-02-02-01-01.wav  03-01-05-01-02-01-01.wav  03-01-07-02-02-01-01.wav\n",
            "03-01-02-02-02-02-01.wav  03-01-05-01-02-02-01.wav  03-01-07-02-02-02-01.wav\n",
            "03-01-03-01-01-01-01.wav  03-01-05-02-01-01-01.wav  03-01-08-01-01-01-01.wav\n",
            "03-01-03-01-01-02-01.wav  03-01-05-02-01-02-01.wav  03-01-08-01-01-02-01.wav\n",
            "03-01-03-01-02-01-01.wav  03-01-05-02-02-01-01.wav  03-01-08-01-02-01-01.wav\n",
            "03-01-03-01-02-02-01.wav  03-01-05-02-02-02-01.wav  03-01-08-01-02-02-01.wav\n",
            "03-01-03-02-01-01-01.wav  03-01-06-01-01-01-01.wav  03-01-08-02-01-01-01.wav\n",
            "03-01-03-02-01-02-01.wav  03-01-06-01-01-02-01.wav  03-01-08-02-01-02-01.wav\n",
            "03-01-03-02-02-01-01.wav  03-01-06-01-02-01-01.wav  03-01-08-02-02-01-01.wav\n",
            "03-01-03-02-02-02-01.wav  03-01-06-01-02-02-01.wav  03-01-08-02-02-02-01.wav\n"
          ],
          "name": "stdout"
        }
      ]
    },
    {
      "metadata": {
        "id": "LEJYF8bGBsG2",
        "colab_type": "code",
        "outputId": "6104de2e-cbe5-4ef4-8b57-f5c2cc783903",
        "colab": {
          "base_uri": "https://localhost:8080/",
          "height": 56
        }
      },
      "cell_type": "code",
      "source": [
        "from os import listdir\n",
        "from os.path import isfile, join\n",
        "onlyfiles = []\n",
        "for i in ['Actor_{:02d}'.format(i) for i in range(1, 25)]:\n",
        "  mypath = 'Folder/'+i\n",
        "  onlyfiles += [mypath + '/' + f for f in listdir(mypath) if isfile(join(mypath, f))]\n",
        "print(onlyfiles)"
      ],
      "execution_count": 0,
      "outputs": [
        {
          "output_type": "stream",
          "text": [
            "['Folder/Actor_01/03-01-06-01-02-01-01.wav', 'Folder/Actor_01/03-01-05-02-01-02-01.wav', 'Folder/Actor_01/03-01-03-01-02-01-01.wav', 'Folder/Actor_01/03-01-02-01-02-01-01.wav', 'Folder/Actor_01/03-01-04-02-02-02-01.wav', 'Folder/Actor_01/03-01-05-02-02-01-01.wav', 'Folder/Actor_01/03-01-01-01-02-01-01.wav', 'Folder/Actor_01/03-01-06-02-01-01-01.wav', 'Folder/Actor_01/03-01-02-02-02-02-01.wav', 'Folder/Actor_01/03-01-06-02-01-02-01.wav', 'Folder/Actor_01/03-01-07-02-02-02-01.wav', 'Folder/Actor_01/03-01-07-02-02-01-01.wav', 'Folder/Actor_01/03-01-02-01-01-01-01.wav', 'Folder/Actor_01/03-01-04-02-01-02-01.wav', 'Folder/Actor_01/03-01-03-02-02-01-01.wav', 'Folder/Actor_01/03-01-08-02-01-02-01.wav', 'Folder/Actor_01/03-01-05-01-02-01-01.wav', 'Folder/Actor_01/03-01-05-01-01-02-01.wav', 'Folder/Actor_01/03-01-01-01-02-02-01.wav', 'Folder/Actor_01/03-01-04-01-02-02-01.wav', 'Folder/Actor_01/03-01-04-01-01-01-01.wav', 'Folder/Actor_01/03-01-08-01-01-02-01.wav', 'Folder/Actor_01/03-01-01-01-01-01-01.wav', 'Folder/Actor_01/03-01-03-01-01-01-01.wav', 'Folder/Actor_01/03-01-03-01-01-02-01.wav', 'Folder/Actor_01/03-01-08-02-02-01-01.wav', 'Folder/Actor_01/03-01-04-02-02-01-01.wav', 'Folder/Actor_01/03-01-08-02-02-02-01.wav', 'Folder/Actor_01/03-01-03-01-02-02-01.wav', 'Folder/Actor_01/03-01-07-01-01-01-01.wav', 'Folder/Actor_01/03-01-02-02-01-02-01.wav', 'Folder/Actor_01/03-01-02-02-02-01-01.wav', 'Folder/Actor_01/03-01-05-02-02-02-01.wav', 'Folder/Actor_01/03-01-02-02-01-01-01.wav', 'Folder/Actor_01/03-01-07-02-01-01-01.wav', 'Folder/Actor_01/03-01-02-01-02-02-01.wav', 'Folder/Actor_01/03-01-05-01-02-02-01.wav', 'Folder/Actor_01/03-01-08-02-01-01-01.wav', 'Folder/Actor_01/03-01-06-01-02-02-01.wav', 'Folder/Actor_01/03-01-04-01-01-02-01.wav', 'Folder/Actor_01/03-01-06-01-01-01-01.wav', 'Folder/Actor_01/03-01-06-02-02-01-01.wav', 'Folder/Actor_01/03-01-02-01-01-02-01.wav', 'Folder/Actor_01/03-01-08-01-02-01-01.wav', 'Folder/Actor_01/03-01-05-02-01-01-01.wav', 'Folder/Actor_01/03-01-06-02-02-02-01.wav', 'Folder/Actor_01/03-01-08-01-01-01-01.wav', 'Folder/Actor_01/03-01-07-01-02-02-01.wav', 'Folder/Actor_01/03-01-05-01-01-01-01.wav', 'Folder/Actor_01/03-01-03-02-01-01-01.wav', 'Folder/Actor_01/03-01-06-01-01-02-01.wav', 'Folder/Actor_01/03-01-04-02-01-01-01.wav', 'Folder/Actor_01/03-01-03-02-02-02-01.wav', 'Folder/Actor_01/03-01-01-01-01-02-01.wav', 'Folder/Actor_01/03-01-07-01-02-01-01.wav', 'Folder/Actor_01/03-01-08-01-02-02-01.wav', 'Folder/Actor_01/03-01-07-02-01-02-01.wav', 'Folder/Actor_01/03-01-04-01-02-01-01.wav', 'Folder/Actor_01/03-01-07-01-01-02-01.wav', 'Folder/Actor_01/03-01-03-02-01-02-01.wav', 'Folder/Actor_02/03-01-01-01-02-02-02.wav', 'Folder/Actor_02/03-01-02-02-01-02-02.wav', 'Folder/Actor_02/03-01-06-01-02-02-02.wav', 'Folder/Actor_02/03-01-08-01-01-02-02.wav', 'Folder/Actor_02/03-01-06-01-01-02-02.wav', 'Folder/Actor_02/03-01-08-01-02-01-02.wav', 'Folder/Actor_02/03-01-04-02-02-02-02.wav', 'Folder/Actor_02/03-01-07-02-02-01-02.wav', 'Folder/Actor_02/03-01-08-02-02-02-02.wav', 'Folder/Actor_02/03-01-04-01-02-01-02.wav', 'Folder/Actor_02/03-01-06-02-02-01-02.wav', 'Folder/Actor_02/03-01-08-01-01-01-02.wav', 'Folder/Actor_02/03-01-06-02-01-01-02.wav', 'Folder/Actor_02/03-01-04-01-01-01-02.wav', 'Folder/Actor_02/03-01-05-02-02-02-02.wav', 'Folder/Actor_02/03-01-04-02-01-02-02.wav', 'Folder/Actor_02/03-01-03-01-01-01-02.wav', 'Folder/Actor_02/03-01-07-02-02-02-02.wav', 'Folder/Actor_02/03-01-04-01-02-02-02.wav', 'Folder/Actor_02/03-01-03-01-02-01-02.wav', 'Folder/Actor_02/03-01-02-02-02-01-02.wav', 'Folder/Actor_02/03-01-03-01-01-02-02.wav', 'Folder/Actor_02/03-01-04-01-01-02-02.wav', 'Folder/Actor_02/03-01-07-02-01-01-02.wav', 'Folder/Actor_02/03-01-04-02-02-01-02.wav', 'Folder/Actor_02/03-01-02-01-02-01-02.wav', 'Folder/Actor_02/03-01-05-02-01-02-02.wav', 'Folder/Actor_02/03-01-02-02-02-02-02.wav', 'Folder/Actor_02/03-01-05-01-01-01-02.wav', 'Folder/Actor_02/03-01-05-01-02-02-02.wav', 'Folder/Actor_02/03-01-02-01-01-02-02.wav', 'Folder/Actor_02/03-01-08-02-02-01-02.wav', 'Folder/Actor_02/03-01-02-01-01-01-02.wav', 'Folder/Actor_02/03-01-05-02-02-01-02.wav', 'Folder/Actor_02/03-01-02-01-02-02-02.wav', 'Folder/Actor_02/03-01-03-01-02-02-02.wav', 'Folder/Actor_02/03-01-08-02-01-02-02.wav', 'Folder/Actor_02/03-01-06-01-01-01-02.wav', 'Folder/Actor_02/03-01-04-02-01-01-02.wav', 'Folder/Actor_02/03-01-06-02-01-02-02.wav', 'Folder/Actor_02/03-01-08-01-02-02-02.wav', 'Folder/Actor_02/03-01-08-02-01-01-02.wav', 'Folder/Actor_02/03-01-06-01-02-01-02.wav', 'Folder/Actor_02/03-01-07-01-01-02-02.wav', 'Folder/Actor_02/03-01-01-01-01-01-02.wav', 'Folder/Actor_02/03-01-05-01-02-01-02.wav', 'Folder/Actor_02/03-01-03-02-02-02-02.wav', 'Folder/Actor_02/03-01-07-01-01-01-02.wav', 'Folder/Actor_02/03-01-01-01-01-02-02.wav', 'Folder/Actor_02/03-01-05-02-01-01-02.wav', 'Folder/Actor_02/03-01-03-02-01-01-02.wav', 'Folder/Actor_02/03-01-01-01-02-01-02.wav', 'Folder/Actor_02/03-01-03-02-02-01-02.wav', 'Folder/Actor_02/03-01-07-01-02-02-02.wav', 'Folder/Actor_02/03-01-06-02-02-02-02.wav', 'Folder/Actor_02/03-01-05-01-01-02-02.wav', 'Folder/Actor_02/03-01-07-02-01-02-02.wav', 'Folder/Actor_02/03-01-07-01-02-01-02.wav', 'Folder/Actor_02/03-01-02-02-01-01-02.wav', 'Folder/Actor_02/03-01-03-02-01-02-02.wav', 'Folder/Actor_03/03-01-02-02-02-01-03.wav', 'Folder/Actor_03/03-01-02-01-02-01-03.wav', 'Folder/Actor_03/03-01-06-02-01-02-03.wav', 'Folder/Actor_03/03-01-05-01-02-01-03.wav', 'Folder/Actor_03/03-01-02-01-01-01-03.wav', 'Folder/Actor_03/03-01-05-02-01-01-03.wav', 'Folder/Actor_03/03-01-07-02-02-01-03.wav', 'Folder/Actor_03/03-01-02-02-02-02-03.wav', 'Folder/Actor_03/03-01-02-01-02-02-03.wav', 'Folder/Actor_03/03-01-08-01-02-02-03.wav', 'Folder/Actor_03/03-01-08-01-01-02-03.wav', 'Folder/Actor_03/03-01-07-01-02-02-03.wav', 'Folder/Actor_03/03-01-02-01-01-02-03.wav', 'Folder/Actor_03/03-01-04-02-01-02-03.wav', 'Folder/Actor_03/03-01-07-02-01-01-03.wav', 'Folder/Actor_03/03-01-07-01-02-01-03.wav', 'Folder/Actor_03/03-01-02-02-01-01-03.wav', 'Folder/Actor_03/03-01-07-02-02-02-03.wav', 'Folder/Actor_03/03-01-04-02-01-01-03.wav', 'Folder/Actor_03/03-01-03-01-01-02-03.wav', 'Folder/Actor_03/03-01-07-01-01-01-03.wav', 'Folder/Actor_03/03-01-04-01-01-02-03.wav', 'Folder/Actor_03/03-01-03-01-01-01-03.wav', 'Folder/Actor_03/03-01-06-02-01-01-03.wav', 'Folder/Actor_03/03-01-04-02-02-02-03.wav', 'Folder/Actor_03/03-01-04-01-02-01-03.wav', 'Folder/Actor_03/03-01-03-02-02-02-03.wav', 'Folder/Actor_03/03-01-05-01-01-02-03.wav', 'Folder/Actor_03/03-01-04-01-01-01-03.wav', 'Folder/Actor_03/03-01-04-01-02-02-03.wav', 'Folder/Actor_03/03-01-07-02-01-02-03.wav', 'Folder/Actor_03/03-01-01-01-01-01-03.wav', 'Folder/Actor_03/03-01-08-01-01-01-03.wav', 'Folder/Actor_03/03-01-06-01-01-01-03.wav', 'Folder/Actor_03/03-01-03-02-01-02-03.wav', 'Folder/Actor_03/03-01-07-01-01-02-03.wav', 'Folder/Actor_03/03-01-03-01-02-01-03.wav', 'Folder/Actor_03/03-01-06-02-02-02-03.wav', 'Folder/Actor_03/03-01-04-02-02-01-03.wav', 'Folder/Actor_03/03-01-05-01-01-01-03.wav', 'Folder/Actor_03/03-01-08-02-01-02-03.wav', 'Folder/Actor_03/03-01-08-02-01-01-03.wav', 'Folder/Actor_03/03-01-01-01-02-01-03.wav', 'Folder/Actor_03/03-01-06-02-02-01-03.wav', 'Folder/Actor_03/03-01-08-02-02-01-03.wav', 'Folder/Actor_03/03-01-03-01-02-02-03.wav', 'Folder/Actor_03/03-01-03-02-02-01-03.wav', 'Folder/Actor_03/03-01-05-01-02-02-03.wav', 'Folder/Actor_03/03-01-08-02-02-02-03.wav', 'Folder/Actor_03/03-01-02-02-01-02-03.wav', 'Folder/Actor_03/03-01-06-01-01-02-03.wav', 'Folder/Actor_03/03-01-06-01-02-02-03.wav', 'Folder/Actor_03/03-01-01-01-01-02-03.wav', 'Folder/Actor_03/03-01-08-01-02-01-03.wav', 'Folder/Actor_03/03-01-06-01-02-01-03.wav', 'Folder/Actor_03/03-01-03-02-01-01-03.wav', 'Folder/Actor_03/03-01-05-02-02-02-03.wav', 'Folder/Actor_03/03-01-01-01-02-02-03.wav', 'Folder/Actor_03/03-01-05-02-01-02-03.wav', 'Folder/Actor_03/03-01-05-02-02-01-03.wav', 'Folder/Actor_04/03-01-04-02-01-01-04.wav', 'Folder/Actor_04/03-01-03-02-01-01-04.wav', 'Folder/Actor_04/03-01-06-01-02-02-04.wav', 'Folder/Actor_04/03-01-05-02-01-01-04.wav', 'Folder/Actor_04/03-01-05-02-01-02-04.wav', 'Folder/Actor_04/03-01-05-01-02-02-04.wav', 'Folder/Actor_04/03-01-04-01-01-01-04.wav', 'Folder/Actor_04/03-01-02-01-02-02-04.wav', 'Folder/Actor_04/03-01-08-01-02-02-04.wav', 'Folder/Actor_04/03-01-08-02-02-02-04.wav', 'Folder/Actor_04/03-01-05-02-02-01-04.wav', 'Folder/Actor_04/03-01-08-01-01-01-04.wav', 'Folder/Actor_04/03-01-06-01-01-02-04.wav', 'Folder/Actor_04/03-01-07-02-01-02-04.wav', 'Folder/Actor_04/03-01-07-01-01-01-04.wav', 'Folder/Actor_04/03-01-03-02-01-02-04.wav', 'Folder/Actor_04/03-01-07-02-01-01-04.wav', 'Folder/Actor_04/03-01-08-02-01-01-04.wav', 'Folder/Actor_04/03-01-05-01-01-01-04.wav', 'Folder/Actor_04/03-01-04-02-02-01-04.wav', 'Folder/Actor_04/03-01-03-01-02-01-04.wav', 'Folder/Actor_04/03-01-04-02-01-02-04.wav', 'Folder/Actor_04/03-01-02-02-01-02-04.wav', 'Folder/Actor_04/03-01-08-02-02-01-04.wav', 'Folder/Actor_04/03-01-08-01-01-02-04.wav', 'Folder/Actor_04/03-01-04-01-01-02-04.wav', 'Folder/Actor_04/03-01-06-01-01-01-04.wav', 'Folder/Actor_04/03-01-06-02-01-01-04.wav', 'Folder/Actor_04/03-01-02-02-01-01-04.wav', 'Folder/Actor_04/03-01-01-01-02-02-04.wav', 'Folder/Actor_04/03-01-05-02-02-02-04.wav', 'Folder/Actor_04/03-01-03-01-01-01-04.wav', 'Folder/Actor_04/03-01-03-01-01-02-04.wav', 'Folder/Actor_04/03-01-08-01-02-01-04.wav', 'Folder/Actor_04/03-01-05-01-02-01-04.wav', 'Folder/Actor_04/03-01-06-02-02-02-04.wav', 'Folder/Actor_04/03-01-04-01-02-02-04.wav', 'Folder/Actor_04/03-01-04-01-02-01-04.wav', 'Folder/Actor_04/03-01-01-01-01-01-04.wav', 'Folder/Actor_04/03-01-03-02-02-01-04.wav', 'Folder/Actor_04/03-01-07-02-02-01-04.wav', 'Folder/Actor_04/03-01-07-02-02-02-04.wav', 'Folder/Actor_04/03-01-06-01-02-01-04.wav', 'Folder/Actor_04/03-01-07-01-01-02-04.wav', 'Folder/Actor_04/03-01-02-01-02-01-04.wav', 'Folder/Actor_04/03-01-02-02-02-02-04.wav', 'Folder/Actor_04/03-01-02-01-01-01-04.wav', 'Folder/Actor_04/03-01-02-01-01-02-04.wav', 'Folder/Actor_04/03-01-05-01-01-02-04.wav', 'Folder/Actor_04/03-01-04-02-02-02-04.wav', 'Folder/Actor_04/03-01-07-01-02-01-04.wav', 'Folder/Actor_04/03-01-08-02-01-02-04.wav', 'Folder/Actor_04/03-01-06-02-01-02-04.wav', 'Folder/Actor_04/03-01-07-01-02-02-04.wav', 'Folder/Actor_04/03-01-03-01-02-02-04.wav', 'Folder/Actor_04/03-01-01-01-02-01-04.wav', 'Folder/Actor_04/03-01-01-01-01-02-04.wav', 'Folder/Actor_04/03-01-06-02-02-01-04.wav', 'Folder/Actor_04/03-01-02-02-02-01-04.wav', 'Folder/Actor_04/03-01-03-02-02-02-04.wav', 'Folder/Actor_05/03-01-02-02-01-02-05.wav', 'Folder/Actor_05/03-01-08-02-02-02-05.wav', 'Folder/Actor_05/03-01-02-01-01-02-05.wav', 'Folder/Actor_05/03-01-07-02-02-02-05.wav', 'Folder/Actor_05/03-01-08-01-02-02-05.wav', 'Folder/Actor_05/03-01-04-01-01-02-05.wav', 'Folder/Actor_05/03-01-06-01-01-02-05.wav', 'Folder/Actor_05/03-01-05-02-02-02-05.wav', 'Folder/Actor_05/03-01-06-01-02-01-05.wav', 'Folder/Actor_05/03-01-03-01-02-02-05.wav', 'Folder/Actor_05/03-01-05-02-01-01-05.wav', 'Folder/Actor_05/03-01-02-02-01-01-05.wav', 'Folder/Actor_05/03-01-05-01-01-01-05.wav', 'Folder/Actor_05/03-01-05-01-01-02-05.wav', 'Folder/Actor_05/03-01-04-02-01-02-05.wav', 'Folder/Actor_05/03-01-06-02-02-01-05.wav', 'Folder/Actor_05/03-01-01-01-02-01-05.wav', 'Folder/Actor_05/03-01-06-01-01-01-05.wav', 'Folder/Actor_05/03-01-07-02-01-01-05.wav', 'Folder/Actor_05/03-01-02-02-02-01-05.wav', 'Folder/Actor_05/03-01-02-01-02-01-05.wav', 'Folder/Actor_05/03-01-04-01-02-02-05.wav', 'Folder/Actor_05/03-01-07-02-01-02-05.wav', 'Folder/Actor_05/03-01-03-02-01-01-05.wav', 'Folder/Actor_05/03-01-03-02-02-02-05.wav', 'Folder/Actor_05/03-01-07-01-01-01-05.wav', 'Folder/Actor_05/03-01-05-01-02-01-05.wav', 'Folder/Actor_05/03-01-06-02-01-01-05.wav', 'Folder/Actor_05/03-01-08-02-01-01-05.wav', 'Folder/Actor_05/03-01-03-02-02-01-05.wav', 'Folder/Actor_05/03-01-03-02-01-02-05.wav', 'Folder/Actor_05/03-01-07-01-02-01-05.wav', 'Folder/Actor_05/03-01-06-02-01-02-05.wav', 'Folder/Actor_05/03-01-01-01-01-02-05.wav', 'Folder/Actor_05/03-01-05-01-02-02-05.wav', 'Folder/Actor_05/03-01-05-02-01-02-05.wav', 'Folder/Actor_05/03-01-04-02-02-01-05.wav', 'Folder/Actor_05/03-01-08-01-01-02-05.wav', 'Folder/Actor_05/03-01-01-01-02-02-05.wav', 'Folder/Actor_05/03-01-03-01-01-01-05.wav', 'Folder/Actor_05/03-01-08-01-01-01-05.wav', 'Folder/Actor_05/03-01-05-02-02-01-05.wav', 'Folder/Actor_05/03-01-03-01-01-02-05.wav', 'Folder/Actor_05/03-01-02-01-01-01-05.wav', 'Folder/Actor_05/03-01-08-02-01-02-05.wav', 'Folder/Actor_05/03-01-04-02-02-02-05.wav', 'Folder/Actor_05/03-01-06-02-02-02-05.wav', 'Folder/Actor_05/03-01-02-02-02-02-05.wav', 'Folder/Actor_05/03-01-02-01-02-02-05.wav', 'Folder/Actor_05/03-01-04-01-02-01-05.wav', 'Folder/Actor_05/03-01-08-01-02-01-05.wav', 'Folder/Actor_05/03-01-07-01-02-02-05.wav', 'Folder/Actor_05/03-01-03-01-02-01-05.wav', 'Folder/Actor_05/03-01-01-01-01-01-05.wav', 'Folder/Actor_05/03-01-04-02-01-01-05.wav', 'Folder/Actor_05/03-01-07-02-02-01-05.wav', 'Folder/Actor_05/03-01-04-01-01-01-05.wav', 'Folder/Actor_05/03-01-06-01-02-02-05.wav', 'Folder/Actor_05/03-01-07-01-01-02-05.wav', 'Folder/Actor_05/03-01-08-02-02-01-05.wav', 'Folder/Actor_06/03-01-05-01-02-02-06.wav', 'Folder/Actor_06/03-01-08-02-01-02-06.wav', 'Folder/Actor_06/03-01-04-02-02-02-06.wav', 'Folder/Actor_06/03-01-03-01-01-01-06.wav', 'Folder/Actor_06/03-01-06-01-01-02-06.wav', 'Folder/Actor_06/03-01-08-02-02-01-06.wav', 'Folder/Actor_06/03-01-08-01-01-01-06.wav', 'Folder/Actor_06/03-01-05-02-02-01-06.wav', 'Folder/Actor_06/03-01-01-01-01-01-06.wav', 'Folder/Actor_06/03-01-04-01-01-02-06.wav', 'Folder/Actor_06/03-01-05-01-02-01-06.wav', 'Folder/Actor_06/03-01-05-01-01-02-06.wav', 'Folder/Actor_06/03-01-03-02-01-02-06.wav', 'Folder/Actor_06/03-01-06-01-01-01-06.wav', 'Folder/Actor_06/03-01-01-01-01-02-06.wav', 'Folder/Actor_06/03-01-08-01-01-02-06.wav', 'Folder/Actor_06/03-01-03-02-02-02-06.wav', 'Folder/Actor_06/03-01-05-02-01-02-06.wav', 'Folder/Actor_06/03-01-03-02-02-01-06.wav', 'Folder/Actor_06/03-01-08-01-02-02-06.wav', 'Folder/Actor_06/03-01-03-02-01-01-06.wav', 'Folder/Actor_06/03-01-04-02-02-01-06.wav', 'Folder/Actor_06/03-01-07-02-01-02-06.wav', 'Folder/Actor_06/03-01-06-02-02-01-06.wav', 'Folder/Actor_06/03-01-02-02-01-01-06.wav', 'Folder/Actor_06/03-01-04-02-01-02-06.wav', 'Folder/Actor_06/03-01-04-02-01-01-06.wav', 'Folder/Actor_06/03-01-07-01-01-01-06.wav', 'Folder/Actor_06/03-01-01-01-02-01-06.wav', 'Folder/Actor_06/03-01-02-02-02-01-06.wav', 'Folder/Actor_06/03-01-02-01-01-01-06.wav', 'Folder/Actor_06/03-01-04-01-02-01-06.wav', 'Folder/Actor_06/03-01-07-01-02-02-06.wav', 'Folder/Actor_06/03-01-07-02-02-01-06.wav', 'Folder/Actor_06/03-01-07-02-01-01-06.wav', 'Folder/Actor_06/03-01-02-01-02-02-06.wav', 'Folder/Actor_06/03-01-06-02-01-02-06.wav', 'Folder/Actor_06/03-01-06-02-02-02-06.wav', 'Folder/Actor_06/03-01-04-01-02-02-06.wav', 'Folder/Actor_06/03-01-05-01-01-01-06.wav', 'Folder/Actor_06/03-01-05-02-02-02-06.wav', 'Folder/Actor_06/03-01-07-01-01-02-06.wav', 'Folder/Actor_06/03-01-08-01-02-01-06.wav', 'Folder/Actor_06/03-01-02-01-01-02-06.wav', 'Folder/Actor_06/03-01-01-01-02-02-06.wav', 'Folder/Actor_06/03-01-04-01-01-01-06.wav', 'Folder/Actor_06/03-01-08-02-02-02-06.wav', 'Folder/Actor_06/03-01-03-01-02-01-06.wav', 'Folder/Actor_06/03-01-02-01-02-01-06.wav', 'Folder/Actor_06/03-01-05-02-01-01-06.wav', 'Folder/Actor_06/03-01-06-01-02-02-06.wav', 'Folder/Actor_06/03-01-03-01-01-02-06.wav', 'Folder/Actor_06/03-01-02-02-02-02-06.wav', 'Folder/Actor_06/03-01-06-02-01-01-06.wav', 'Folder/Actor_06/03-01-02-02-01-02-06.wav', 'Folder/Actor_06/03-01-08-02-01-01-06.wav', 'Folder/Actor_06/03-01-07-01-02-01-06.wav', 'Folder/Actor_06/03-01-07-02-02-02-06.wav', 'Folder/Actor_06/03-01-06-01-02-01-06.wav', 'Folder/Actor_06/03-01-03-01-02-02-06.wav', 'Folder/Actor_07/03-01-08-02-02-02-07.wav', 'Folder/Actor_07/03-01-04-01-01-01-07.wav', 'Folder/Actor_07/03-01-07-01-02-02-07.wav', 'Folder/Actor_07/03-01-07-02-02-02-07.wav', 'Folder/Actor_07/03-01-05-01-01-01-07.wav', 'Folder/Actor_07/03-01-03-02-02-02-07.wav', 'Folder/Actor_07/03-01-07-02-02-01-07.wav', 'Folder/Actor_07/03-01-02-01-02-02-07.wav', 'Folder/Actor_07/03-01-07-01-01-01-07.wav', 'Folder/Actor_07/03-01-06-01-02-01-07.wav', 'Folder/Actor_07/03-01-08-01-02-01-07.wav', 'Folder/Actor_07/03-01-02-01-01-02-07.wav', 'Folder/Actor_07/03-01-08-02-01-02-07.wav', 'Folder/Actor_07/03-01-04-02-02-02-07.wav', 'Folder/Actor_07/03-01-08-02-02-01-07.wav', 'Folder/Actor_07/03-01-06-02-01-02-07.wav', 'Folder/Actor_07/03-01-02-02-02-01-07.wav', 'Folder/Actor_07/03-01-01-01-01-02-07.wav', 'Folder/Actor_07/03-01-03-01-02-02-07.wav', 'Folder/Actor_07/03-01-03-02-02-01-07.wav', 'Folder/Actor_07/03-01-07-02-01-02-07.wav', 'Folder/Actor_07/03-01-04-01-01-02-07.wav', 'Folder/Actor_07/03-01-06-01-02-02-07.wav', 'Folder/Actor_07/03-01-08-01-02-02-07.wav', 'Folder/Actor_07/03-01-03-02-01-01-07.wav', 'Folder/Actor_07/03-01-04-01-02-01-07.wav', 'Folder/Actor_07/03-01-08-01-01-01-07.wav', 'Folder/Actor_07/03-01-05-02-01-02-07.wav', 'Folder/Actor_07/03-01-01-01-02-02-07.wav', 'Folder/Actor_07/03-01-02-02-01-01-07.wav', 'Folder/Actor_07/03-01-04-02-01-01-07.wav', 'Folder/Actor_07/03-01-02-01-02-01-07.wav', 'Folder/Actor_07/03-01-05-02-02-02-07.wav', 'Folder/Actor_07/03-01-03-01-02-01-07.wav', 'Folder/Actor_07/03-01-03-01-01-02-07.wav', 'Folder/Actor_07/03-01-05-01-02-02-07.wav', 'Folder/Actor_07/03-01-01-01-02-01-07.wav', 'Folder/Actor_07/03-01-02-02-01-02-07.wav', 'Folder/Actor_07/03-01-08-01-01-02-07.wav', 'Folder/Actor_07/03-01-06-01-01-02-07.wav', 'Folder/Actor_07/03-01-04-01-02-02-07.wav', 'Folder/Actor_07/03-01-08-02-01-01-07.wav', 'Folder/Actor_07/03-01-06-02-02-02-07.wav', 'Folder/Actor_07/03-01-06-02-01-01-07.wav', 'Folder/Actor_07/03-01-07-01-01-02-07.wav', 'Folder/Actor_07/03-01-03-02-01-02-07.wav', 'Folder/Actor_07/03-01-07-01-02-01-07.wav', 'Folder/Actor_07/03-01-06-01-01-01-07.wav', 'Folder/Actor_07/03-01-07-02-01-01-07.wav', 'Folder/Actor_07/03-01-04-02-02-01-07.wav', 'Folder/Actor_07/03-01-05-02-02-01-07.wav', 'Folder/Actor_07/03-01-05-01-02-01-07.wav', 'Folder/Actor_07/03-01-02-02-02-02-07.wav', 'Folder/Actor_07/03-01-02-01-01-01-07.wav', 'Folder/Actor_07/03-01-03-01-01-01-07.wav', 'Folder/Actor_07/03-01-05-01-01-02-07.wav', 'Folder/Actor_07/03-01-01-01-01-01-07.wav', 'Folder/Actor_07/03-01-04-02-01-02-07.wav', 'Folder/Actor_07/03-01-05-02-01-01-07.wav', 'Folder/Actor_07/03-01-06-02-02-01-07.wav', 'Folder/Actor_08/03-01-08-02-01-02-08.wav', 'Folder/Actor_08/03-01-08-01-01-02-08.wav', 'Folder/Actor_08/03-01-05-02-02-02-08.wav', 'Folder/Actor_08/03-01-07-02-02-01-08.wav', 'Folder/Actor_08/03-01-07-02-01-02-08.wav', 'Folder/Actor_08/03-01-03-02-02-01-08.wav', 'Folder/Actor_08/03-01-03-01-01-02-08.wav', 'Folder/Actor_08/03-01-06-02-02-01-08.wav', 'Folder/Actor_08/03-01-08-01-01-01-08.wav', 'Folder/Actor_08/03-01-06-01-02-02-08.wav', 'Folder/Actor_08/03-01-08-02-01-01-08.wav', 'Folder/Actor_08/03-01-06-02-01-02-08.wav', 'Folder/Actor_08/03-01-07-01-01-02-08.wav', 'Folder/Actor_08/03-01-04-02-02-01-08.wav', 'Folder/Actor_08/03-01-04-01-02-01-08.wav', 'Folder/Actor_08/03-01-06-02-02-02-08.wav', 'Folder/Actor_08/03-01-06-01-01-02-08.wav', 'Folder/Actor_08/03-01-05-01-02-01-08.wav', 'Folder/Actor_08/03-01-04-02-02-02-08.wav', 'Folder/Actor_08/03-01-06-01-02-01-08.wav', 'Folder/Actor_08/03-01-01-01-01-01-08.wav', 'Folder/Actor_08/03-01-02-02-02-01-08.wav', 'Folder/Actor_08/03-01-08-01-02-02-08.wav', 'Folder/Actor_08/03-01-03-01-02-01-08.wav', 'Folder/Actor_08/03-01-05-01-01-01-08.wav', 'Folder/Actor_08/03-01-05-01-02-02-08.wav', 'Folder/Actor_08/03-01-03-01-02-02-08.wav', 'Folder/Actor_08/03-01-02-02-02-02-08.wav', 'Folder/Actor_08/03-01-05-02-01-01-08.wav', 'Folder/Actor_08/03-01-03-02-02-02-08.wav', 'Folder/Actor_08/03-01-03-02-01-01-08.wav', 'Folder/Actor_08/03-01-07-01-02-02-08.wav', 'Folder/Actor_08/03-01-02-01-01-01-08.wav', 'Folder/Actor_08/03-01-04-01-01-02-08.wav', 'Folder/Actor_08/03-01-06-01-01-01-08.wav', 'Folder/Actor_08/03-01-01-01-02-02-08.wav', 'Folder/Actor_08/03-01-02-01-02-01-08.wav', 'Folder/Actor_08/03-01-05-01-01-02-08.wav', 'Folder/Actor_08/03-01-01-01-01-02-08.wav', 'Folder/Actor_08/03-01-07-01-02-01-08.wav', 'Folder/Actor_08/03-01-04-01-02-02-08.wav', 'Folder/Actor_08/03-01-05-02-01-02-08.wav', 'Folder/Actor_08/03-01-03-02-01-02-08.wav', 'Folder/Actor_08/03-01-04-02-01-02-08.wav', 'Folder/Actor_08/03-01-07-02-02-02-08.wav', 'Folder/Actor_08/03-01-02-01-01-02-08.wav', 'Folder/Actor_08/03-01-04-02-01-01-08.wav', 'Folder/Actor_08/03-01-05-02-02-01-08.wav', 'Folder/Actor_08/03-01-08-02-02-02-08.wav', 'Folder/Actor_08/03-01-02-01-02-02-08.wav', 'Folder/Actor_08/03-01-08-02-02-01-08.wav', 'Folder/Actor_08/03-01-01-01-02-01-08.wav', 'Folder/Actor_08/03-01-03-01-01-01-08.wav', 'Folder/Actor_08/03-01-07-01-01-01-08.wav', 'Folder/Actor_08/03-01-04-01-01-01-08.wav', 'Folder/Actor_08/03-01-02-02-01-02-08.wav', 'Folder/Actor_08/03-01-06-02-01-01-08.wav', 'Folder/Actor_08/03-01-02-02-01-01-08.wav', 'Folder/Actor_08/03-01-07-02-01-01-08.wav', 'Folder/Actor_08/03-01-08-01-02-01-08.wav', 'Folder/Actor_09/03-01-02-02-01-01-09.wav', 'Folder/Actor_09/03-01-01-01-02-02-09.wav', 'Folder/Actor_09/03-01-05-02-02-02-09.wav', 'Folder/Actor_09/03-01-08-02-01-02-09.wav', 'Folder/Actor_09/03-01-03-02-01-02-09.wav', 'Folder/Actor_09/03-01-04-01-02-02-09.wav', 'Folder/Actor_09/03-01-01-01-02-01-09.wav', 'Folder/Actor_09/03-01-07-02-01-02-09.wav', 'Folder/Actor_09/03-01-07-01-01-01-09.wav', 'Folder/Actor_09/03-01-05-02-01-01-09.wav', 'Folder/Actor_09/03-01-06-01-01-02-09.wav', 'Folder/Actor_09/03-01-08-02-02-02-09.wav', 'Folder/Actor_09/03-01-02-02-02-01-09.wav', 'Folder/Actor_09/03-01-03-01-02-01-09.wav', 'Folder/Actor_09/03-01-01-01-01-02-09.wav', 'Folder/Actor_09/03-01-07-02-02-02-09.wav', 'Folder/Actor_09/03-01-03-02-02-01-09.wav', 'Folder/Actor_09/03-01-01-01-01-01-09.wav', 'Folder/Actor_09/03-01-04-01-01-02-09.wav', 'Folder/Actor_09/03-01-02-02-01-02-09.wav', 'Folder/Actor_09/03-01-02-01-01-01-09.wav', 'Folder/Actor_09/03-01-03-01-01-02-09.wav', 'Folder/Actor_09/03-01-04-01-02-01-09.wav', 'Folder/Actor_09/03-01-08-01-01-01-09.wav', 'Folder/Actor_09/03-01-08-01-01-02-09.wav', 'Folder/Actor_09/03-01-07-01-01-02-09.wav', 'Folder/Actor_09/03-01-06-02-01-01-09.wav', 'Folder/Actor_09/03-01-05-02-01-02-09.wav', 'Folder/Actor_09/03-01-06-02-02-01-09.wav', 'Folder/Actor_09/03-01-03-02-01-01-09.wav', 'Folder/Actor_09/03-01-04-02-02-02-09.wav', 'Folder/Actor_09/03-01-02-01-01-02-09.wav', 'Folder/Actor_09/03-01-02-02-02-02-09.wav', 'Folder/Actor_09/03-01-04-02-02-01-09.wav', 'Folder/Actor_09/03-01-02-01-02-02-09.wav', 'Folder/Actor_09/03-01-06-01-02-02-09.wav', 'Folder/Actor_09/03-01-06-02-02-02-09.wav', 'Folder/Actor_09/03-01-03-01-02-02-09.wav', 'Folder/Actor_09/03-01-07-01-02-02-09.wav', 'Folder/Actor_09/03-01-08-01-02-01-09.wav', 'Folder/Actor_09/03-01-04-02-01-01-09.wav', 'Folder/Actor_09/03-01-05-01-02-02-09.wav', 'Folder/Actor_09/03-01-08-01-02-02-09.wav', 'Folder/Actor_09/03-01-07-02-02-01-09.wav', 'Folder/Actor_09/03-01-07-01-02-01-09.wav', 'Folder/Actor_09/03-01-08-02-01-01-09.wav', 'Folder/Actor_09/03-01-06-02-01-02-09.wav', 'Folder/Actor_09/03-01-03-02-02-02-09.wav', 'Folder/Actor_09/03-01-07-02-01-01-09.wav', 'Folder/Actor_09/03-01-04-01-01-01-09.wav', 'Folder/Actor_09/03-01-03-01-01-01-09.wav', 'Folder/Actor_09/03-01-04-02-01-02-09.wav', 'Folder/Actor_09/03-01-08-02-02-01-09.wav', 'Folder/Actor_09/03-01-05-01-02-01-09.wav', 'Folder/Actor_09/03-01-05-02-02-01-09.wav', 'Folder/Actor_09/03-01-02-01-02-01-09.wav', 'Folder/Actor_09/03-01-06-01-02-01-09.wav', 'Folder/Actor_09/03-01-06-01-01-01-09.wav', 'Folder/Actor_09/03-01-05-01-01-01-09.wav', 'Folder/Actor_09/03-01-05-01-01-02-09.wav', 'Folder/Actor_10/03-01-06-02-01-01-10.wav', 'Folder/Actor_10/03-01-07-02-01-02-10.wav', 'Folder/Actor_10/03-01-04-02-01-02-10.wav', 'Folder/Actor_10/03-01-06-01-01-01-10.wav', 'Folder/Actor_10/03-01-04-01-02-01-10.wav', 'Folder/Actor_10/03-01-03-01-01-02-10.wav', 'Folder/Actor_10/03-01-07-02-02-02-10.wav', 'Folder/Actor_10/03-01-02-01-02-01-10.wav', 'Folder/Actor_10/03-01-05-02-02-02-10.wav', 'Folder/Actor_10/03-01-07-01-01-02-10.wav', 'Folder/Actor_10/03-01-06-02-02-01-10.wav', 'Folder/Actor_10/03-01-06-02-02-02-10.wav', 'Folder/Actor_10/03-01-07-01-02-01-10.wav', 'Folder/Actor_10/03-01-08-02-01-02-10.wav', 'Folder/Actor_10/03-01-02-02-01-02-10.wav', 'Folder/Actor_10/03-01-04-02-01-01-10.wav', 'Folder/Actor_10/03-01-03-01-01-01-10.wav', 'Folder/Actor_10/03-01-03-02-02-01-10.wav', 'Folder/Actor_10/03-01-02-02-02-01-10.wav', 'Folder/Actor_10/03-01-06-01-01-02-10.wav', 'Folder/Actor_10/03-01-04-01-01-02-10.wav', 'Folder/Actor_10/03-01-03-02-01-02-10.wav', 'Folder/Actor_10/03-01-05-02-01-01-10.wav', 'Folder/Actor_10/03-01-05-01-02-02-10.wav', 'Folder/Actor_10/03-01-01-01-02-01-10.wav', 'Folder/Actor_10/03-01-07-02-01-01-10.wav', 'Folder/Actor_10/03-01-04-01-01-01-10.wav', 'Folder/Actor_10/03-01-07-01-01-01-10.wav', 'Folder/Actor_10/03-01-05-02-02-01-10.wav', 'Folder/Actor_10/03-01-02-01-01-02-10.wav', 'Folder/Actor_10/03-01-01-01-01-02-10.wav', 'Folder/Actor_10/03-01-08-01-02-02-10.wav', 'Folder/Actor_10/03-01-02-02-02-02-10.wav', 'Folder/Actor_10/03-01-02-02-01-01-10.wav', 'Folder/Actor_10/03-01-08-02-02-01-10.wav', 'Folder/Actor_10/03-01-05-01-01-02-10.wav', 'Folder/Actor_10/03-01-08-01-02-01-10.wav', 'Folder/Actor_10/03-01-03-01-02-01-10.wav', 'Folder/Actor_10/03-01-05-02-01-02-10.wav', 'Folder/Actor_10/03-01-04-01-02-02-10.wav', 'Folder/Actor_10/03-01-07-01-02-02-10.wav', 'Folder/Actor_10/03-01-07-02-02-01-10.wav', 'Folder/Actor_10/03-01-02-01-02-02-10.wav', 'Folder/Actor_10/03-01-08-01-01-01-10.wav', 'Folder/Actor_10/03-01-05-01-02-01-10.wav', 'Folder/Actor_10/03-01-01-01-02-02-10.wav', 'Folder/Actor_10/03-01-08-02-01-01-10.wav', 'Folder/Actor_10/03-01-01-01-01-01-10.wav', 'Folder/Actor_10/03-01-08-01-01-02-10.wav', 'Folder/Actor_10/03-01-03-01-02-02-10.wav', 'Folder/Actor_10/03-01-03-02-02-02-10.wav', 'Folder/Actor_10/03-01-05-01-01-01-10.wav', 'Folder/Actor_10/03-01-06-01-02-01-10.wav', 'Folder/Actor_10/03-01-02-01-01-01-10.wav', 'Folder/Actor_10/03-01-04-02-02-02-10.wav', 'Folder/Actor_10/03-01-06-01-02-02-10.wav', 'Folder/Actor_10/03-01-06-02-01-02-10.wav', 'Folder/Actor_10/03-01-04-02-02-01-10.wav', 'Folder/Actor_10/03-01-08-02-02-02-10.wav', 'Folder/Actor_10/03-01-03-02-01-01-10.wav', 'Folder/Actor_11/03-01-06-01-01-02-11.wav', 'Folder/Actor_11/03-01-04-01-01-01-11.wav', 'Folder/Actor_11/03-01-08-02-02-01-11.wav', 'Folder/Actor_11/03-01-07-01-02-01-11.wav', 'Folder/Actor_11/03-01-01-01-01-01-11.wav', 'Folder/Actor_11/03-01-07-01-01-02-11.wav', 'Folder/Actor_11/03-01-02-01-01-01-11.wav', 'Folder/Actor_11/03-01-06-01-02-02-11.wav', 'Folder/Actor_11/03-01-03-02-02-02-11.wav', 'Folder/Actor_11/03-01-03-01-02-01-11.wav', 'Folder/Actor_11/03-01-02-02-02-01-11.wav', 'Folder/Actor_11/03-01-03-01-02-02-11.wav', 'Folder/Actor_11/03-01-03-02-01-01-11.wav', 'Folder/Actor_11/03-01-05-02-02-01-11.wav', 'Folder/Actor_11/03-01-02-02-02-02-11.wav', 'Folder/Actor_11/03-01-08-01-02-01-11.wav', 'Folder/Actor_11/03-01-02-01-02-01-11.wav', 'Folder/Actor_11/03-01-03-01-01-02-11.wav', 'Folder/Actor_11/03-01-04-01-02-02-11.wav', 'Folder/Actor_11/03-01-03-02-02-01-11.wav', 'Folder/Actor_11/03-01-08-02-02-02-11.wav', 'Folder/Actor_11/03-01-04-02-02-01-11.wav', 'Folder/Actor_11/03-01-03-02-01-02-11.wav', 'Folder/Actor_11/03-01-08-01-01-01-11.wav', 'Folder/Actor_11/03-01-04-02-01-01-11.wav', 'Folder/Actor_11/03-01-07-02-01-01-11.wav', 'Folder/Actor_11/03-01-05-01-01-01-11.wav', 'Folder/Actor_11/03-01-08-01-02-02-11.wav', 'Folder/Actor_11/03-01-02-02-01-01-11.wav', 'Folder/Actor_11/03-01-04-02-02-02-11.wav', 'Folder/Actor_11/03-01-04-01-02-01-11.wav', 'Folder/Actor_11/03-01-04-01-01-02-11.wav', 'Folder/Actor_11/03-01-05-02-01-02-11.wav', 'Folder/Actor_11/03-01-07-01-01-01-11.wav', 'Folder/Actor_11/03-01-01-01-01-02-11.wav', 'Folder/Actor_11/03-01-06-02-02-02-11.wav', 'Folder/Actor_11/03-01-02-01-01-02-11.wav', 'Folder/Actor_11/03-01-01-01-02-02-11.wav', 'Folder/Actor_11/03-01-02-02-01-02-11.wav', 'Folder/Actor_11/03-01-07-01-02-02-11.wav', 'Folder/Actor_11/03-01-08-01-01-02-11.wav', 'Folder/Actor_11/03-01-07-02-01-02-11.wav', 'Folder/Actor_11/03-01-01-01-02-01-11.wav', 'Folder/Actor_11/03-01-08-02-01-02-11.wav', 'Folder/Actor_11/03-01-05-01-01-02-11.wav', 'Folder/Actor_11/03-01-04-02-01-02-11.wav', 'Folder/Actor_11/03-01-02-01-02-02-11.wav', 'Folder/Actor_11/03-01-05-01-02-02-11.wav', 'Folder/Actor_11/03-01-06-02-01-01-11.wav', 'Folder/Actor_11/03-01-06-01-01-01-11.wav', 'Folder/Actor_11/03-01-08-02-01-01-11.wav', 'Folder/Actor_11/03-01-03-01-01-01-11.wav', 'Folder/Actor_11/03-01-07-02-02-02-11.wav', 'Folder/Actor_11/03-01-07-02-02-01-11.wav', 'Folder/Actor_11/03-01-06-01-02-01-11.wav', 'Folder/Actor_11/03-01-06-02-02-01-11.wav', 'Folder/Actor_11/03-01-05-01-02-01-11.wav', 'Folder/Actor_11/03-01-06-02-01-02-11.wav', 'Folder/Actor_11/03-01-05-02-02-02-11.wav', 'Folder/Actor_11/03-01-05-02-01-01-11.wav', 'Folder/Actor_12/03-01-04-01-02-02-12.wav', 'Folder/Actor_12/03-01-05-01-01-01-12.wav', 'Folder/Actor_12/03-01-03-01-02-01-12.wav', 'Folder/Actor_12/03-01-06-02-02-02-12.wav', 'Folder/Actor_12/03-01-08-01-01-02-12.wav', 'Folder/Actor_12/03-01-04-01-02-01-12.wav', 'Folder/Actor_12/03-01-07-01-02-02-12.wav', 'Folder/Actor_12/03-01-04-01-01-01-12.wav', 'Folder/Actor_12/03-01-07-01-01-01-12.wav', 'Folder/Actor_12/03-01-08-02-02-02-12.wav', 'Folder/Actor_12/03-01-02-02-01-02-12.wav', 'Folder/Actor_12/03-01-03-01-01-01-12.wav', 'Folder/Actor_12/03-01-04-02-02-02-12.wav', 'Folder/Actor_12/03-01-04-02-01-02-12.wav', 'Folder/Actor_12/03-01-06-01-02-01-12.wav', 'Folder/Actor_12/03-01-02-02-01-01-12.wav', 'Folder/Actor_12/03-01-02-01-02-02-12.wav', 'Folder/Actor_12/03-01-07-01-02-01-12.wav', 'Folder/Actor_12/03-01-04-02-02-01-12.wav', 'Folder/Actor_12/03-01-05-01-02-02-12.wav', 'Folder/Actor_12/03-01-03-02-01-02-12.wav', 'Folder/Actor_12/03-01-05-02-01-02-12.wav', 'Folder/Actor_12/03-01-05-01-01-02-12.wav', 'Folder/Actor_12/03-01-06-01-01-01-12.wav', 'Folder/Actor_12/03-01-05-01-02-01-12.wav', 'Folder/Actor_12/03-01-04-02-01-01-12.wav', 'Folder/Actor_12/03-01-06-02-01-01-12.wav', 'Folder/Actor_12/03-01-08-02-01-02-12.wav', 'Folder/Actor_12/03-01-02-02-02-02-12.wav', 'Folder/Actor_12/03-01-01-01-02-02-12.wav', 'Folder/Actor_12/03-01-08-01-02-02-12.wav', 'Folder/Actor_12/03-01-01-01-02-01-12.wav', 'Folder/Actor_12/03-01-06-01-01-02-12.wav', 'Folder/Actor_12/03-01-04-01-01-02-12.wav', 'Folder/Actor_12/03-01-03-02-02-02-12.wav', 'Folder/Actor_12/03-01-03-02-01-01-12.wav', 'Folder/Actor_12/03-01-07-02-01-01-12.wav', 'Folder/Actor_12/03-01-06-01-02-02-12.wav', 'Folder/Actor_12/03-01-01-01-01-02-12.wav', 'Folder/Actor_12/03-01-03-01-01-02-12.wav', 'Folder/Actor_12/03-01-03-02-02-01-12.wav', 'Folder/Actor_12/03-01-06-02-01-02-12.wav', 'Folder/Actor_12/03-01-08-02-01-01-12.wav', 'Folder/Actor_12/03-01-08-01-01-01-12.wav', 'Folder/Actor_12/03-01-07-02-02-02-12.wav', 'Folder/Actor_12/03-01-08-02-02-01-12.wav', 'Folder/Actor_12/03-01-05-02-02-01-12.wav', 'Folder/Actor_12/03-01-08-01-02-01-12.wav', 'Folder/Actor_12/03-01-01-01-01-01-12.wav', 'Folder/Actor_12/03-01-07-01-01-02-12.wav', 'Folder/Actor_12/03-01-05-02-02-02-12.wav', 'Folder/Actor_12/03-01-02-01-01-01-12.wav', 'Folder/Actor_12/03-01-02-02-02-01-12.wav', 'Folder/Actor_12/03-01-02-01-01-02-12.wav', 'Folder/Actor_12/03-01-07-02-01-02-12.wav', 'Folder/Actor_12/03-01-05-02-01-01-12.wav', 'Folder/Actor_12/03-01-07-02-02-01-12.wav', 'Folder/Actor_12/03-01-06-02-02-01-12.wav', 'Folder/Actor_12/03-01-03-01-02-02-12.wav', 'Folder/Actor_12/03-01-02-01-02-01-12.wav', 'Folder/Actor_13/03-01-03-01-02-02-13.wav', 'Folder/Actor_13/03-01-05-01-01-02-13.wav', 'Folder/Actor_13/03-01-07-02-01-02-13.wav', 'Folder/Actor_13/03-01-02-01-02-01-13.wav', 'Folder/Actor_13/03-01-07-02-02-02-13.wav', 'Folder/Actor_13/03-01-04-01-01-02-13.wav', 'Folder/Actor_13/03-01-05-01-01-01-13.wav', 'Folder/Actor_13/03-01-07-01-02-02-13.wav', 'Folder/Actor_13/03-01-02-02-01-02-13.wav', 'Folder/Actor_13/03-01-03-02-02-01-13.wav', 'Folder/Actor_13/03-01-08-02-02-02-13.wav', 'Folder/Actor_13/03-01-08-01-02-02-13.wav', 'Folder/Actor_13/03-01-02-01-02-02-13.wav', 'Folder/Actor_13/03-01-06-02-01-01-13.wav', 'Folder/Actor_13/03-01-02-02-02-01-13.wav', 'Folder/Actor_13/03-01-01-01-01-01-13.wav', 'Folder/Actor_13/03-01-04-02-02-01-13.wav', 'Folder/Actor_13/03-01-06-01-02-01-13.wav', 'Folder/Actor_13/03-01-08-01-02-01-13.wav', 'Folder/Actor_13/03-01-07-02-02-01-13.wav', 'Folder/Actor_13/03-01-05-02-02-01-13.wav', 'Folder/Actor_13/03-01-03-01-01-01-13.wav', 'Folder/Actor_13/03-01-05-02-02-02-13.wav', 'Folder/Actor_13/03-01-02-02-01-01-13.wav', 'Folder/Actor_13/03-01-03-02-01-01-13.wav', 'Folder/Actor_13/03-01-07-01-01-01-13.wav', 'Folder/Actor_13/03-01-08-01-01-01-13.wav', 'Folder/Actor_13/03-01-04-02-02-02-13.wav', 'Folder/Actor_13/03-01-06-02-01-02-13.wav', 'Folder/Actor_13/03-01-08-02-01-01-13.wav', 'Folder/Actor_13/03-01-05-01-02-01-13.wav', 'Folder/Actor_13/03-01-06-01-01-01-13.wav', 'Folder/Actor_13/03-01-04-01-02-02-13.wav', 'Folder/Actor_13/03-01-03-02-01-02-13.wav', 'Folder/Actor_13/03-01-06-01-01-02-13.wav', 'Folder/Actor_13/03-01-07-01-02-01-13.wav', 'Folder/Actor_13/03-01-08-01-01-02-13.wav', 'Folder/Actor_13/03-01-04-02-01-01-13.wav', 'Folder/Actor_13/03-01-08-02-01-02-13.wav', 'Folder/Actor_13/03-01-05-01-02-02-13.wav', 'Folder/Actor_13/03-01-04-02-01-02-13.wav', 'Folder/Actor_13/03-01-03-02-02-02-13.wav', 'Folder/Actor_13/03-01-02-01-01-02-13.wav', 'Folder/Actor_13/03-01-03-01-02-01-13.wav', 'Folder/Actor_13/03-01-02-01-01-01-13.wav', 'Folder/Actor_13/03-01-06-02-02-01-13.wav', 'Folder/Actor_13/03-01-04-01-02-01-13.wav', 'Folder/Actor_13/03-01-08-02-02-01-13.wav', 'Folder/Actor_13/03-01-06-01-02-02-13.wav', 'Folder/Actor_13/03-01-01-01-01-02-13.wav', 'Folder/Actor_13/03-01-01-01-02-01-13.wav', 'Folder/Actor_13/03-01-05-02-01-02-13.wav', 'Folder/Actor_13/03-01-04-01-01-01-13.wav', 'Folder/Actor_13/03-01-02-02-02-02-13.wav', 'Folder/Actor_13/03-01-01-01-02-02-13.wav', 'Folder/Actor_13/03-01-06-02-02-02-13.wav', 'Folder/Actor_13/03-01-03-01-01-02-13.wav', 'Folder/Actor_13/03-01-07-01-01-02-13.wav', 'Folder/Actor_13/03-01-05-02-01-01-13.wav', 'Folder/Actor_13/03-01-07-02-01-01-13.wav', 'Folder/Actor_14/03-01-04-02-02-01-14.wav', 'Folder/Actor_14/03-01-02-01-01-01-14.wav', 'Folder/Actor_14/03-01-03-01-01-01-14.wav', 'Folder/Actor_14/03-01-08-01-02-01-14.wav', 'Folder/Actor_14/03-01-04-01-02-02-14.wav', 'Folder/Actor_14/03-01-08-01-01-01-14.wav', 'Folder/Actor_14/03-01-04-01-01-01-14.wav', 'Folder/Actor_14/03-01-06-02-01-02-14.wav', 'Folder/Actor_14/03-01-06-02-02-01-14.wav', 'Folder/Actor_14/03-01-04-02-02-02-14.wav', 'Folder/Actor_14/03-01-05-02-02-02-14.wav', 'Folder/Actor_14/03-01-06-01-01-01-14.wav', 'Folder/Actor_14/03-01-03-02-01-02-14.wav', 'Folder/Actor_14/03-01-03-01-02-01-14.wav', 'Folder/Actor_14/03-01-07-02-01-02-14.wav', 'Folder/Actor_14/03-01-07-01-02-01-14.wav', 'Folder/Actor_14/03-01-07-01-01-02-14.wav', 'Folder/Actor_14/03-01-03-01-02-02-14.wav', 'Folder/Actor_14/03-01-05-01-02-01-14.wav', 'Folder/Actor_14/03-01-06-01-01-02-14.wav', 'Folder/Actor_14/03-01-02-02-01-01-14.wav', 'Folder/Actor_14/03-01-08-02-02-02-14.wav', 'Folder/Actor_14/03-01-05-01-02-02-14.wav', 'Folder/Actor_14/03-01-03-02-02-01-14.wav', 'Folder/Actor_14/03-01-02-01-02-01-14.wav', 'Folder/Actor_14/03-01-05-02-01-01-14.wav', 'Folder/Actor_14/03-01-04-02-01-01-14.wav', 'Folder/Actor_14/03-01-01-01-01-01-14.wav', 'Folder/Actor_14/03-01-06-02-01-01-14.wav', 'Folder/Actor_14/03-01-06-02-02-02-14.wav', 'Folder/Actor_14/03-01-05-01-01-02-14.wav', 'Folder/Actor_14/03-01-07-02-01-01-14.wav', 'Folder/Actor_14/03-01-01-01-01-02-14.wav', 'Folder/Actor_14/03-01-08-02-01-02-14.wav', 'Folder/Actor_14/03-01-08-02-02-01-14.wav', 'Folder/Actor_14/03-01-04-01-02-01-14.wav', 'Folder/Actor_14/03-01-08-02-01-01-14.wav', 'Folder/Actor_14/03-01-01-01-02-02-14.wav', 'Folder/Actor_14/03-01-06-01-02-02-14.wav', 'Folder/Actor_14/03-01-05-02-01-02-14.wav', 'Folder/Actor_14/03-01-03-02-02-02-14.wav', 'Folder/Actor_14/03-01-06-01-02-01-14.wav', 'Folder/Actor_14/03-01-02-02-02-01-14.wav', 'Folder/Actor_14/03-01-02-01-01-02-14.wav', 'Folder/Actor_14/03-01-05-01-01-01-14.wav', 'Folder/Actor_14/03-01-04-01-01-02-14.wav', 'Folder/Actor_14/03-01-08-01-02-02-14.wav', 'Folder/Actor_14/03-01-08-01-01-02-14.wav', 'Folder/Actor_14/03-01-02-01-02-02-14.wav', 'Folder/Actor_14/03-01-03-02-01-01-14.wav', 'Folder/Actor_14/03-01-02-02-02-02-14.wav', 'Folder/Actor_14/03-01-02-02-01-02-14.wav', 'Folder/Actor_14/03-01-07-02-02-02-14.wav', 'Folder/Actor_14/03-01-01-01-02-01-14.wav', 'Folder/Actor_14/03-01-04-02-01-02-14.wav', 'Folder/Actor_14/03-01-05-02-02-01-14.wav', 'Folder/Actor_14/03-01-07-01-02-02-14.wav', 'Folder/Actor_14/03-01-07-01-01-01-14.wav', 'Folder/Actor_14/03-01-03-01-01-02-14.wav', 'Folder/Actor_14/03-01-07-02-02-01-14.wav', 'Folder/Actor_15/03-01-05-01-01-02-15.wav', 'Folder/Actor_15/03-01-02-01-02-01-15.wav', 'Folder/Actor_15/03-01-05-02-01-01-15.wav', 'Folder/Actor_15/03-01-06-01-01-02-15.wav', 'Folder/Actor_15/03-01-05-02-01-02-15.wav', 'Folder/Actor_15/03-01-04-01-01-02-15.wav', 'Folder/Actor_15/03-01-07-02-01-02-15.wav', 'Folder/Actor_15/03-01-03-01-02-02-15.wav', 'Folder/Actor_15/03-01-08-02-01-02-15.wav', 'Folder/Actor_15/03-01-08-01-01-02-15.wav', 'Folder/Actor_15/03-01-05-02-02-02-15.wav', 'Folder/Actor_15/03-01-02-02-02-01-15.wav', 'Folder/Actor_15/03-01-05-02-02-01-15.wav', 'Folder/Actor_15/03-01-02-02-02-02-15.wav', 'Folder/Actor_15/03-01-06-02-01-02-15.wav', 'Folder/Actor_15/03-01-04-01-02-02-15.wav', 'Folder/Actor_15/03-01-02-02-01-01-15.wav', 'Folder/Actor_15/03-01-08-01-02-02-15.wav', 'Folder/Actor_15/03-01-03-02-02-02-15.wav', 'Folder/Actor_15/03-01-04-02-01-01-15.wav', 'Folder/Actor_15/03-01-04-02-01-02-15.wav', 'Folder/Actor_15/03-01-05-01-02-02-15.wav', 'Folder/Actor_15/03-01-01-01-02-01-15.wav', 'Folder/Actor_15/03-01-02-02-01-02-15.wav', 'Folder/Actor_15/03-01-03-02-02-01-15.wav', 'Folder/Actor_15/03-01-04-01-02-01-15.wav', 'Folder/Actor_15/03-01-08-02-01-01-15.wav', 'Folder/Actor_15/03-01-07-01-01-01-15.wav', 'Folder/Actor_15/03-01-05-01-01-01-15.wav', 'Folder/Actor_15/03-01-02-01-02-02-15.wav', 'Folder/Actor_15/03-01-06-01-02-02-15.wav', 'Folder/Actor_15/03-01-07-02-02-02-15.wav', 'Folder/Actor_15/03-01-02-01-01-01-15.wav', 'Folder/Actor_15/03-01-06-02-01-01-15.wav', 'Folder/Actor_15/03-01-03-02-01-01-15.wav', 'Folder/Actor_15/03-01-08-01-01-01-15.wav', 'Folder/Actor_15/03-01-04-02-02-01-15.wav', 'Folder/Actor_15/03-01-07-01-02-02-15.wav', 'Folder/Actor_15/03-01-06-02-02-01-15.wav', 'Folder/Actor_15/03-01-07-01-02-01-15.wav', 'Folder/Actor_15/03-01-08-02-02-01-15.wav', 'Folder/Actor_15/03-01-04-01-01-01-15.wav', 'Folder/Actor_15/03-01-06-01-01-01-15.wav', 'Folder/Actor_15/03-01-05-01-02-01-15.wav', 'Folder/Actor_15/03-01-01-01-01-01-15.wav', 'Folder/Actor_15/03-01-01-01-01-02-15.wav', 'Folder/Actor_15/03-01-02-01-01-02-15.wav', 'Folder/Actor_15/03-01-08-01-02-01-15.wav', 'Folder/Actor_15/03-01-08-02-02-02-15.wav', 'Folder/Actor_15/03-01-03-02-01-02-15.wav', 'Folder/Actor_15/03-01-03-01-02-01-15.wav', 'Folder/Actor_15/03-01-04-02-02-02-15.wav', 'Folder/Actor_15/03-01-07-02-01-01-15.wav', 'Folder/Actor_15/03-01-07-02-02-01-15.wav', 'Folder/Actor_15/03-01-03-01-01-01-15.wav', 'Folder/Actor_15/03-01-01-01-02-02-15.wav', 'Folder/Actor_15/03-01-06-01-02-01-15.wav', 'Folder/Actor_15/03-01-06-02-02-02-15.wav', 'Folder/Actor_15/03-01-07-01-01-02-15.wav', 'Folder/Actor_15/03-01-03-01-01-02-15.wav', 'Folder/Actor_16/03-01-04-01-02-02-16.wav', 'Folder/Actor_16/03-01-07-02-02-02-16.wav', 'Folder/Actor_16/03-01-05-02-01-02-16.wav', 'Folder/Actor_16/03-01-06-02-02-01-16.wav', 'Folder/Actor_16/03-01-04-01-01-02-16.wav', 'Folder/Actor_16/03-01-06-01-02-01-16.wav', 'Folder/Actor_16/03-01-07-01-02-01-16.wav', 'Folder/Actor_16/03-01-08-02-01-01-16.wav', 'Folder/Actor_16/03-01-08-02-02-01-16.wav', 'Folder/Actor_16/03-01-02-02-02-02-16.wav', 'Folder/Actor_16/03-01-03-01-02-02-16.wav', 'Folder/Actor_16/03-01-01-01-01-01-16.wav', 'Folder/Actor_16/03-01-06-01-01-01-16.wav', 'Folder/Actor_16/03-01-08-01-02-02-16.wav', 'Folder/Actor_16/03-01-03-01-02-01-16.wav', 'Folder/Actor_16/03-01-07-01-01-02-16.wav', 'Folder/Actor_16/03-01-08-02-01-02-16.wav', 'Folder/Actor_16/03-01-05-01-02-02-16.wav', 'Folder/Actor_16/03-01-08-01-01-02-16.wav', 'Folder/Actor_16/03-01-03-01-01-02-16.wav', 'Folder/Actor_16/03-01-07-02-01-02-16.wav', 'Folder/Actor_16/03-01-02-02-01-02-16.wav', 'Folder/Actor_16/03-01-06-02-02-02-16.wav', 'Folder/Actor_16/03-01-02-02-02-01-16.wav', 'Folder/Actor_16/03-01-05-02-01-01-16.wav', 'Folder/Actor_16/03-01-06-02-01-01-16.wav', 'Folder/Actor_16/03-01-05-01-01-02-16.wav', 'Folder/Actor_16/03-01-02-02-01-01-16.wav', 'Folder/Actor_16/03-01-01-01-02-01-16.wav', 'Folder/Actor_16/03-01-08-01-02-01-16.wav', 'Folder/Actor_16/03-01-01-01-02-02-16.wav', 'Folder/Actor_16/03-01-04-01-02-01-16.wav', 'Folder/Actor_16/03-01-03-01-01-01-16.wav', 'Folder/Actor_16/03-01-04-02-01-01-16.wav', 'Folder/Actor_16/03-01-04-02-01-02-16.wav', 'Folder/Actor_16/03-01-03-02-02-02-16.wav', 'Folder/Actor_16/03-01-05-01-02-01-16.wav', 'Folder/Actor_16/03-01-06-01-02-02-16.wav', 'Folder/Actor_16/03-01-08-02-02-02-16.wav', 'Folder/Actor_16/03-01-07-02-01-01-16.wav', 'Folder/Actor_16/03-01-04-02-02-01-16.wav', 'Folder/Actor_16/03-01-05-02-02-01-16.wav', 'Folder/Actor_16/03-01-04-02-02-02-16.wav', 'Folder/Actor_16/03-01-05-02-02-02-16.wav', 'Folder/Actor_16/03-01-02-01-01-01-16.wav', 'Folder/Actor_16/03-01-07-01-01-01-16.wav', 'Folder/Actor_16/03-01-02-01-01-02-16.wav', 'Folder/Actor_16/03-01-03-02-01-02-16.wav', 'Folder/Actor_16/03-01-06-01-01-02-16.wav', 'Folder/Actor_16/03-01-06-02-01-02-16.wav', 'Folder/Actor_16/03-01-05-01-01-01-16.wav', 'Folder/Actor_16/03-01-01-01-01-02-16.wav', 'Folder/Actor_16/03-01-07-02-02-01-16.wav', 'Folder/Actor_16/03-01-03-02-02-01-16.wav', 'Folder/Actor_16/03-01-07-01-02-02-16.wav', 'Folder/Actor_16/03-01-03-02-01-01-16.wav', 'Folder/Actor_16/03-01-04-01-01-01-16.wav', 'Folder/Actor_16/03-01-08-01-01-01-16.wav', 'Folder/Actor_16/03-01-02-01-02-02-16.wav', 'Folder/Actor_16/03-01-02-01-02-01-16.wav', 'Folder/Actor_17/03-01-06-02-02-01-17.wav', 'Folder/Actor_17/03-01-07-01-02-02-17.wav', 'Folder/Actor_17/03-01-06-01-01-01-17.wav', 'Folder/Actor_17/03-01-06-01-02-02-17.wav', 'Folder/Actor_17/03-01-01-01-02-02-17.wav', 'Folder/Actor_17/03-01-05-02-01-01-17.wav', 'Folder/Actor_17/03-01-07-02-01-01-17.wav', 'Folder/Actor_17/03-01-04-01-01-02-17.wav', 'Folder/Actor_17/03-01-05-02-02-01-17.wav', 'Folder/Actor_17/03-01-03-02-02-01-17.wav', 'Folder/Actor_17/03-01-07-02-01-02-17.wav', 'Folder/Actor_17/03-01-01-01-02-01-17.wav', 'Folder/Actor_17/03-01-08-02-01-01-17.wav', 'Folder/Actor_17/03-01-03-02-01-01-17.wav', 'Folder/Actor_17/03-01-04-02-01-02-17.wav', 'Folder/Actor_17/03-01-02-02-02-02-17.wav', 'Folder/Actor_17/03-01-04-02-02-01-17.wav', 'Folder/Actor_17/03-01-02-01-01-02-17.wav', 'Folder/Actor_17/03-01-02-02-02-01-17.wav', 'Folder/Actor_17/03-01-05-01-01-01-17.wav', 'Folder/Actor_17/03-01-05-02-01-02-17.wav', 'Folder/Actor_17/03-01-03-02-02-02-17.wav', 'Folder/Actor_17/03-01-07-02-02-01-17.wav', 'Folder/Actor_17/03-01-08-02-02-02-17.wav', 'Folder/Actor_17/03-01-05-01-02-02-17.wav', 'Folder/Actor_17/03-01-07-01-02-01-17.wav', 'Folder/Actor_17/03-01-06-01-01-02-17.wav', 'Folder/Actor_17/03-01-01-01-01-01-17.wav', 'Folder/Actor_17/03-01-08-02-01-02-17.wav', 'Folder/Actor_17/03-01-03-01-02-01-17.wav', 'Folder/Actor_17/03-01-02-01-01-01-17.wav', 'Folder/Actor_17/03-01-07-01-01-01-17.wav', 'Folder/Actor_17/03-01-08-02-02-01-17.wav', 'Folder/Actor_17/03-01-07-02-02-02-17.wav', 'Folder/Actor_17/03-01-08-01-01-01-17.wav', 'Folder/Actor_17/03-01-08-01-02-01-17.wav', 'Folder/Actor_17/03-01-07-01-01-02-17.wav', 'Folder/Actor_17/03-01-05-02-02-02-17.wav', 'Folder/Actor_17/03-01-02-02-01-02-17.wav', 'Folder/Actor_17/03-01-08-01-01-02-17.wav', 'Folder/Actor_17/03-01-06-02-02-02-17.wav', 'Folder/Actor_17/03-01-04-01-02-01-17.wav', 'Folder/Actor_17/03-01-03-02-01-02-17.wav', 'Folder/Actor_17/03-01-05-01-01-02-17.wav', 'Folder/Actor_17/03-01-04-02-02-02-17.wav', 'Folder/Actor_17/03-01-02-01-02-02-17.wav', 'Folder/Actor_17/03-01-03-01-01-02-17.wav', 'Folder/Actor_17/03-01-08-01-02-02-17.wav', 'Folder/Actor_17/03-01-04-01-02-02-17.wav', 'Folder/Actor_17/03-01-04-01-01-01-17.wav', 'Folder/Actor_17/03-01-06-01-02-01-17.wav', 'Folder/Actor_17/03-01-03-01-02-02-17.wav', 'Folder/Actor_17/03-01-06-02-01-01-17.wav', 'Folder/Actor_17/03-01-05-01-02-01-17.wav', 'Folder/Actor_17/03-01-03-01-01-01-17.wav', 'Folder/Actor_17/03-01-04-02-01-01-17.wav', 'Folder/Actor_17/03-01-06-02-01-02-17.wav', 'Folder/Actor_17/03-01-02-01-02-01-17.wav', 'Folder/Actor_17/03-01-02-02-01-01-17.wav', 'Folder/Actor_17/03-01-01-01-01-02-17.wav', 'Folder/Actor_18/03-01-06-02-01-02-18.wav', 'Folder/Actor_18/03-01-06-01-02-01-18.wav', 'Folder/Actor_18/03-01-03-01-02-01-18.wav', 'Folder/Actor_18/03-01-04-01-01-01-18.wav', 'Folder/Actor_18/03-01-02-02-01-02-18.wav', 'Folder/Actor_18/03-01-04-01-02-01-18.wav', 'Folder/Actor_18/03-01-08-01-02-02-18.wav', 'Folder/Actor_18/03-01-03-02-02-01-18.wav', 'Folder/Actor_18/03-01-03-02-01-02-18.wav', 'Folder/Actor_18/03-01-08-01-01-01-18.wav', 'Folder/Actor_18/03-01-02-01-01-01-18.wav', 'Folder/Actor_18/03-01-02-01-02-02-18.wav', 'Folder/Actor_18/03-01-07-01-01-02-18.wav', 'Folder/Actor_18/03-01-04-01-01-02-18.wav', 'Folder/Actor_18/03-01-06-01-02-02-18.wav', 'Folder/Actor_18/03-01-07-02-01-01-18.wav', 'Folder/Actor_18/03-01-07-02-02-01-18.wav', 'Folder/Actor_18/03-01-08-02-01-02-18.wav', 'Folder/Actor_18/03-01-03-01-01-02-18.wav', 'Folder/Actor_18/03-01-05-01-02-01-18.wav', 'Folder/Actor_18/03-01-08-01-01-02-18.wav', 'Folder/Actor_18/03-01-05-02-02-02-18.wav', 'Folder/Actor_18/03-01-06-01-01-02-18.wav', 'Folder/Actor_18/03-01-04-01-02-02-18.wav', 'Folder/Actor_18/03-01-05-01-01-01-18.wav', 'Folder/Actor_18/03-01-03-02-01-01-18.wav', 'Folder/Actor_18/03-01-08-02-01-01-18.wav', 'Folder/Actor_18/03-01-01-01-02-01-18.wav', 'Folder/Actor_18/03-01-07-01-01-01-18.wav', 'Folder/Actor_18/03-01-04-02-02-02-18.wav', 'Folder/Actor_18/03-01-05-01-02-02-18.wav', 'Folder/Actor_18/03-01-06-02-01-01-18.wav', 'Folder/Actor_18/03-01-03-01-01-01-18.wav', 'Folder/Actor_18/03-01-02-02-02-02-18.wav', 'Folder/Actor_18/03-01-02-01-02-01-18.wav', 'Folder/Actor_18/03-01-07-01-02-02-18.wav', 'Folder/Actor_18/03-01-03-02-02-02-18.wav', 'Folder/Actor_18/03-01-03-01-02-02-18.wav', 'Folder/Actor_18/03-01-06-02-02-01-18.wav', 'Folder/Actor_18/03-01-01-01-01-01-18.wav', 'Folder/Actor_18/03-01-04-02-01-01-18.wav', 'Folder/Actor_18/03-01-01-01-01-02-18.wav', 'Folder/Actor_18/03-01-02-02-02-01-18.wav', 'Folder/Actor_18/03-01-02-02-01-01-18.wav', 'Folder/Actor_18/03-01-07-02-01-02-18.wav', 'Folder/Actor_18/03-01-05-02-02-01-18.wav', 'Folder/Actor_18/03-01-06-02-02-02-18.wav', 'Folder/Actor_18/03-01-01-01-02-02-18.wav', 'Folder/Actor_18/03-01-08-01-02-01-18.wav', 'Folder/Actor_18/03-01-07-02-02-02-18.wav', 'Folder/Actor_18/03-01-08-02-02-01-18.wav', 'Folder/Actor_18/03-01-02-01-01-02-18.wav', 'Folder/Actor_18/03-01-06-01-01-01-18.wav', 'Folder/Actor_18/03-01-08-02-02-02-18.wav', 'Folder/Actor_18/03-01-04-02-01-02-18.wav', 'Folder/Actor_18/03-01-05-02-01-02-18.wav', 'Folder/Actor_18/03-01-04-02-02-01-18.wav', 'Folder/Actor_18/03-01-07-01-02-01-18.wav', 'Folder/Actor_18/03-01-05-01-01-02-18.wav', 'Folder/Actor_18/03-01-05-02-01-01-18.wav', 'Folder/Actor_19/03-01-03-01-02-02-19.wav', 'Folder/Actor_19/03-01-08-02-01-01-19.wav', 'Folder/Actor_19/03-01-04-02-01-02-19.wav', 'Folder/Actor_19/03-01-04-01-02-01-19.wav', 'Folder/Actor_19/03-01-07-02-02-02-19.wav', 'Folder/Actor_19/03-01-02-02-01-01-19.wav', 'Folder/Actor_19/03-01-06-01-02-01-19.wav', 'Folder/Actor_19/03-01-03-01-01-01-19.wav', 'Folder/Actor_19/03-01-06-02-02-02-19.wav', 'Folder/Actor_19/03-01-06-02-01-02-19.wav', 'Folder/Actor_19/03-01-03-02-02-01-19.wav', 'Folder/Actor_19/03-01-05-01-02-01-19.wav', 'Folder/Actor_19/03-01-02-01-02-02-19.wav', 'Folder/Actor_19/03-01-06-02-02-01-19.wav', 'Folder/Actor_19/03-01-04-01-01-02-19.wav', 'Folder/Actor_19/03-01-01-01-01-02-19.wav', 'Folder/Actor_19/03-01-05-01-01-01-19.wav', 'Folder/Actor_19/03-01-05-01-02-02-19.wav', 'Folder/Actor_19/03-01-03-02-01-01-19.wav', 'Folder/Actor_19/03-01-07-02-01-01-19.wav', 'Folder/Actor_19/03-01-07-02-01-02-19.wav', 'Folder/Actor_19/03-01-08-02-02-02-19.wav', 'Folder/Actor_19/03-01-02-02-02-02-19.wav', 'Folder/Actor_19/03-01-05-02-01-02-19.wav', 'Folder/Actor_19/03-01-02-01-02-01-19.wav', 'Folder/Actor_19/03-01-08-01-02-01-19.wav', 'Folder/Actor_19/03-01-08-01-01-02-19.wav', 'Folder/Actor_19/03-01-04-02-01-01-19.wav', 'Folder/Actor_19/03-01-02-01-01-02-19.wav', 'Folder/Actor_19/03-01-05-02-02-01-19.wav', 'Folder/Actor_19/03-01-03-02-01-02-19.wav', 'Folder/Actor_19/03-01-06-02-01-01-19.wav', 'Folder/Actor_19/03-01-03-02-02-02-19.wav', 'Folder/Actor_19/03-01-01-01-02-01-19.wav', 'Folder/Actor_19/03-01-04-01-02-02-19.wav', 'Folder/Actor_19/03-01-04-02-02-02-19.wav', 'Folder/Actor_19/03-01-08-01-01-01-19.wav', 'Folder/Actor_19/03-01-05-02-02-02-19.wav', 'Folder/Actor_19/03-01-03-01-02-01-19.wav', 'Folder/Actor_19/03-01-07-01-02-02-19.wav', 'Folder/Actor_19/03-01-07-01-01-01-19.wav', 'Folder/Actor_19/03-01-08-02-01-02-19.wav', 'Folder/Actor_19/03-01-06-01-01-01-19.wav', 'Folder/Actor_19/03-01-02-01-01-01-19.wav', 'Folder/Actor_19/03-01-06-01-01-02-19.wav', 'Folder/Actor_19/03-01-05-02-01-01-19.wav', 'Folder/Actor_19/03-01-08-02-02-01-19.wav', 'Folder/Actor_19/03-01-04-01-01-01-19.wav', 'Folder/Actor_19/03-01-01-01-02-02-19.wav', 'Folder/Actor_19/03-01-07-01-01-02-19.wav', 'Folder/Actor_19/03-01-08-01-02-02-19.wav', 'Folder/Actor_19/03-01-05-01-01-02-19.wav', 'Folder/Actor_19/03-01-02-02-01-02-19.wav', 'Folder/Actor_19/03-01-06-01-02-02-19.wav', 'Folder/Actor_19/03-01-07-02-02-01-19.wav', 'Folder/Actor_19/03-01-02-02-02-01-19.wav', 'Folder/Actor_19/03-01-03-01-01-02-19.wav', 'Folder/Actor_19/03-01-04-02-02-01-19.wav', 'Folder/Actor_19/03-01-07-01-02-01-19.wav', 'Folder/Actor_19/03-01-01-01-01-01-19.wav', 'Folder/Actor_20/03-01-07-02-02-02-20.wav', 'Folder/Actor_20/03-01-01-01-02-02-20.wav', 'Folder/Actor_20/03-01-05-01-02-02-20.wav', 'Folder/Actor_20/03-01-05-02-01-02-20.wav', 'Folder/Actor_20/03-01-03-02-01-01-20.wav', 'Folder/Actor_20/03-01-06-01-01-02-20.wav', 'Folder/Actor_20/03-01-07-01-02-02-20.wav', 'Folder/Actor_20/03-01-08-01-02-02-20.wav', 'Folder/Actor_20/03-01-05-01-01-01-20.wav', 'Folder/Actor_20/03-01-07-01-02-01-20.wav', 'Folder/Actor_20/03-01-02-01-02-01-20.wav', 'Folder/Actor_20/03-01-06-01-02-02-20.wav', 'Folder/Actor_20/03-01-02-02-02-02-20.wav', 'Folder/Actor_20/03-01-01-01-01-01-20.wav', 'Folder/Actor_20/03-01-08-01-01-01-20.wav', 'Folder/Actor_20/03-01-05-01-01-02-20.wav', 'Folder/Actor_20/03-01-03-02-02-01-20.wav', 'Folder/Actor_20/03-01-06-01-02-01-20.wav', 'Folder/Actor_20/03-01-08-02-02-01-20.wav', 'Folder/Actor_20/03-01-04-02-02-02-20.wav', 'Folder/Actor_20/03-01-02-02-01-01-20.wav', 'Folder/Actor_20/03-01-04-01-01-01-20.wav', 'Folder/Actor_20/03-01-03-02-01-02-20.wav', 'Folder/Actor_20/03-01-05-01-02-01-20.wav', 'Folder/Actor_20/03-01-06-02-01-02-20.wav', 'Folder/Actor_20/03-01-02-01-02-02-20.wav', 'Folder/Actor_20/03-01-07-01-01-01-20.wav', 'Folder/Actor_20/03-01-08-02-02-02-20.wav', 'Folder/Actor_20/03-01-02-01-01-02-20.wav', 'Folder/Actor_20/03-01-07-01-01-02-20.wav', 'Folder/Actor_20/03-01-08-01-01-02-20.wav', 'Folder/Actor_20/03-01-01-01-01-02-20.wav', 'Folder/Actor_20/03-01-02-02-01-02-20.wav', 'Folder/Actor_20/03-01-05-02-01-01-20.wav', 'Folder/Actor_20/03-01-08-02-01-02-20.wav', 'Folder/Actor_20/03-01-04-02-02-01-20.wav', 'Folder/Actor_20/03-01-03-01-01-01-20.wav', 'Folder/Actor_20/03-01-03-01-02-01-20.wav', 'Folder/Actor_20/03-01-06-02-02-01-20.wav', 'Folder/Actor_20/03-01-03-02-02-02-20.wav', 'Folder/Actor_20/03-01-02-02-02-01-20.wav', 'Folder/Actor_20/03-01-07-02-02-01-20.wav', 'Folder/Actor_20/03-01-04-01-02-02-20.wav', 'Folder/Actor_20/03-01-04-01-01-02-20.wav', 'Folder/Actor_20/03-01-06-02-01-01-20.wav', 'Folder/Actor_20/03-01-02-01-01-01-20.wav', 'Folder/Actor_20/03-01-06-02-02-02-20.wav', 'Folder/Actor_20/03-01-03-01-01-02-20.wav', 'Folder/Actor_20/03-01-07-02-01-01-20.wav', 'Folder/Actor_20/03-01-08-01-02-01-20.wav', 'Folder/Actor_20/03-01-05-02-02-02-20.wav', 'Folder/Actor_20/03-01-01-01-02-01-20.wav', 'Folder/Actor_20/03-01-04-02-01-02-20.wav', 'Folder/Actor_20/03-01-08-02-01-01-20.wav', 'Folder/Actor_20/03-01-04-01-02-01-20.wav', 'Folder/Actor_20/03-01-05-02-02-01-20.wav', 'Folder/Actor_20/03-01-07-02-01-02-20.wav', 'Folder/Actor_20/03-01-06-01-01-01-20.wav', 'Folder/Actor_20/03-01-03-01-02-02-20.wav', 'Folder/Actor_20/03-01-04-02-01-01-20.wav', 'Folder/Actor_21/03-01-05-02-02-02-21.wav', 'Folder/Actor_21/03-01-07-02-01-01-21.wav', 'Folder/Actor_21/03-01-04-02-02-02-21.wav', 'Folder/Actor_21/03-01-01-01-02-01-21.wav', 'Folder/Actor_21/03-01-08-02-01-02-21.wav', 'Folder/Actor_21/03-01-08-01-01-02-21.wav', 'Folder/Actor_21/03-01-06-01-02-01-21.wav', 'Folder/Actor_21/03-01-07-01-02-01-21.wav', 'Folder/Actor_21/03-01-03-01-01-01-21.wav', 'Folder/Actor_21/03-01-07-02-02-01-21.wav', 'Folder/Actor_21/03-01-08-01-01-01-21.wav', 'Folder/Actor_21/03-01-04-02-01-02-21.wav', 'Folder/Actor_21/03-01-06-01-02-02-21.wav', 'Folder/Actor_21/03-01-08-02-02-01-21.wav', 'Folder/Actor_21/03-01-04-01-01-01-21.wav', 'Folder/Actor_21/03-01-02-01-02-01-21.wav', 'Folder/Actor_21/03-01-05-01-01-01-21.wav', 'Folder/Actor_21/03-01-04-01-01-02-21.wav', 'Folder/Actor_21/03-01-05-01-02-01-21.wav', 'Folder/Actor_21/03-01-08-01-02-01-21.wav', 'Folder/Actor_21/03-01-08-02-02-02-21.wav', 'Folder/Actor_21/03-01-08-01-02-02-21.wav', 'Folder/Actor_21/03-01-02-02-01-01-21.wav', 'Folder/Actor_21/03-01-05-01-01-02-21.wav', 'Folder/Actor_21/03-01-07-01-01-02-21.wav', 'Folder/Actor_21/03-01-06-02-02-01-21.wav', 'Folder/Actor_21/03-01-03-01-01-02-21.wav', 'Folder/Actor_21/03-01-07-01-02-02-21.wav', 'Folder/Actor_21/03-01-06-02-01-01-21.wav', 'Folder/Actor_21/03-01-06-01-01-02-21.wav', 'Folder/Actor_21/03-01-01-01-01-02-21.wav', 'Folder/Actor_21/03-01-01-01-01-01-21.wav', 'Folder/Actor_21/03-01-07-02-01-02-21.wav', 'Folder/Actor_21/03-01-06-02-01-02-21.wav', 'Folder/Actor_21/03-01-01-01-02-02-21.wav', 'Folder/Actor_21/03-01-06-01-01-01-21.wav', 'Folder/Actor_21/03-01-04-01-02-02-21.wav', 'Folder/Actor_21/03-01-03-02-01-02-21.wav', 'Folder/Actor_21/03-01-03-02-02-02-21.wav', 'Folder/Actor_21/03-01-07-02-02-02-21.wav', 'Folder/Actor_21/03-01-02-02-02-02-21.wav', 'Folder/Actor_21/03-01-04-01-02-01-21.wav', 'Folder/Actor_21/03-01-02-01-01-01-21.wav', 'Folder/Actor_21/03-01-06-02-02-02-21.wav', 'Folder/Actor_21/03-01-02-02-01-02-21.wav', 'Folder/Actor_21/03-01-05-01-02-02-21.wav', 'Folder/Actor_21/03-01-07-01-01-01-21.wav', 'Folder/Actor_21/03-01-04-02-01-01-21.wav', 'Folder/Actor_21/03-01-05-02-01-02-21.wav', 'Folder/Actor_21/03-01-02-01-02-02-21.wav', 'Folder/Actor_21/03-01-02-02-02-01-21.wav', 'Folder/Actor_21/03-01-03-01-02-01-21.wav', 'Folder/Actor_21/03-01-03-02-01-01-21.wav', 'Folder/Actor_21/03-01-08-02-01-01-21.wav', 'Folder/Actor_21/03-01-02-01-01-02-21.wav', 'Folder/Actor_21/03-01-03-01-02-02-21.wav', 'Folder/Actor_21/03-01-05-02-02-01-21.wav', 'Folder/Actor_21/03-01-04-02-02-01-21.wav', 'Folder/Actor_21/03-01-05-02-01-01-21.wav', 'Folder/Actor_21/03-01-03-02-02-01-21.wav', 'Folder/Actor_22/03-01-01-01-02-01-22.wav', 'Folder/Actor_22/03-01-07-02-01-01-22.wav', 'Folder/Actor_22/03-01-07-02-02-01-22.wav', 'Folder/Actor_22/03-01-03-02-02-02-22.wav', 'Folder/Actor_22/03-01-08-01-02-01-22.wav', 'Folder/Actor_22/03-01-06-01-01-02-22.wav', 'Folder/Actor_22/03-01-07-01-02-02-22.wav', 'Folder/Actor_22/03-01-05-01-02-01-22.wav', 'Folder/Actor_22/03-01-02-01-02-02-22.wav', 'Folder/Actor_22/03-01-03-01-02-01-22.wav', 'Folder/Actor_22/03-01-03-02-02-01-22.wav', 'Folder/Actor_22/03-01-07-01-01-01-22.wav', 'Folder/Actor_22/03-01-02-01-02-01-22.wav', 'Folder/Actor_22/03-01-04-01-01-01-22.wav', 'Folder/Actor_22/03-01-05-01-02-02-22.wav', 'Folder/Actor_22/03-01-06-01-02-01-22.wav', 'Folder/Actor_22/03-01-07-02-02-02-22.wav', 'Folder/Actor_22/03-01-03-01-01-01-22.wav', 'Folder/Actor_22/03-01-05-02-01-01-22.wav', 'Folder/Actor_22/03-01-03-01-02-02-22.wav', 'Folder/Actor_22/03-01-07-01-02-01-22.wav', 'Folder/Actor_22/03-01-02-02-01-01-22.wav', 'Folder/Actor_22/03-01-01-01-01-02-22.wav', 'Folder/Actor_22/03-01-04-02-02-02-22.wav', 'Folder/Actor_22/03-01-08-02-02-02-22.wav', 'Folder/Actor_22/03-01-08-01-01-02-22.wav', 'Folder/Actor_22/03-01-03-02-01-01-22.wav', 'Folder/Actor_22/03-01-06-01-02-02-22.wav', 'Folder/Actor_22/03-01-07-01-01-02-22.wav', 'Folder/Actor_22/03-01-04-01-01-02-22.wav', 'Folder/Actor_22/03-01-01-01-02-02-22.wav', 'Folder/Actor_22/03-01-05-01-01-02-22.wav', 'Folder/Actor_22/03-01-04-02-01-02-22.wav', 'Folder/Actor_22/03-01-04-02-01-01-22.wav', 'Folder/Actor_22/03-01-08-01-02-02-22.wav', 'Folder/Actor_22/03-01-05-01-01-01-22.wav', 'Folder/Actor_22/03-01-04-02-02-01-22.wav', 'Folder/Actor_22/03-01-02-01-01-02-22.wav', 'Folder/Actor_22/03-01-06-02-02-01-22.wav', 'Folder/Actor_22/03-01-04-01-02-02-22.wav', 'Folder/Actor_22/03-01-05-02-02-02-22.wav', 'Folder/Actor_22/03-01-02-02-01-02-22.wav', 'Folder/Actor_22/03-01-08-02-01-01-22.wav', 'Folder/Actor_22/03-01-01-01-01-01-22.wav', 'Folder/Actor_22/03-01-08-02-01-02-22.wav', 'Folder/Actor_22/03-01-08-01-01-01-22.wav', 'Folder/Actor_22/03-01-06-02-01-02-22.wav', 'Folder/Actor_22/03-01-02-02-02-02-22.wav', 'Folder/Actor_22/03-01-07-02-01-02-22.wav', 'Folder/Actor_22/03-01-03-02-01-02-22.wav', 'Folder/Actor_22/03-01-06-02-02-02-22.wav', 'Folder/Actor_22/03-01-02-02-02-01-22.wav', 'Folder/Actor_22/03-01-08-02-02-01-22.wav', 'Folder/Actor_22/03-01-06-01-01-01-22.wav', 'Folder/Actor_22/03-01-03-01-01-02-22.wav', 'Folder/Actor_22/03-01-05-02-01-02-22.wav', 'Folder/Actor_22/03-01-06-02-01-01-22.wav', 'Folder/Actor_22/03-01-04-01-02-01-22.wav', 'Folder/Actor_22/03-01-05-02-02-01-22.wav', 'Folder/Actor_22/03-01-02-01-01-01-22.wav', 'Folder/Actor_23/03-01-05-01-02-01-23.wav', 'Folder/Actor_23/03-01-02-01-01-01-23.wav', 'Folder/Actor_23/03-01-08-01-02-01-23.wav', 'Folder/Actor_23/03-01-03-01-02-01-23.wav', 'Folder/Actor_23/03-01-04-01-02-01-23.wav', 'Folder/Actor_23/03-01-06-02-02-02-23.wav', 'Folder/Actor_23/03-01-01-01-01-02-23.wav', 'Folder/Actor_23/03-01-08-02-01-01-23.wav', 'Folder/Actor_23/03-01-04-02-01-02-23.wav', 'Folder/Actor_23/03-01-05-01-01-01-23.wav', 'Folder/Actor_23/03-01-01-01-01-01-23.wav', 'Folder/Actor_23/03-01-02-01-02-02-23.wav', 'Folder/Actor_23/03-01-06-01-02-01-23.wav', 'Folder/Actor_23/03-01-07-01-01-01-23.wav', 'Folder/Actor_23/03-01-03-01-01-02-23.wav', 'Folder/Actor_23/03-01-03-02-01-02-23.wav', 'Folder/Actor_23/03-01-01-01-02-02-23.wav', 'Folder/Actor_23/03-01-07-02-02-02-23.wav', 'Folder/Actor_23/03-01-02-02-01-02-23.wav', 'Folder/Actor_23/03-01-05-02-01-01-23.wav', 'Folder/Actor_23/03-01-05-01-01-02-23.wav', 'Folder/Actor_23/03-01-04-02-02-02-23.wav', 'Folder/Actor_23/03-01-03-01-02-02-23.wav', 'Folder/Actor_23/03-01-01-01-02-01-23.wav', 'Folder/Actor_23/03-01-05-02-02-01-23.wav', 'Folder/Actor_23/03-01-04-02-01-01-23.wav', 'Folder/Actor_23/03-01-05-02-02-02-23.wav', 'Folder/Actor_23/03-01-03-02-02-01-23.wav', 'Folder/Actor_23/03-01-04-01-02-02-23.wav', 'Folder/Actor_23/03-01-02-01-01-02-23.wav', 'Folder/Actor_23/03-01-07-01-02-02-23.wav', 'Folder/Actor_23/03-01-08-02-02-01-23.wav', 'Folder/Actor_23/03-01-08-01-01-01-23.wav', 'Folder/Actor_23/03-01-05-01-02-02-23.wav', 'Folder/Actor_23/03-01-04-01-01-01-23.wav', 'Folder/Actor_23/03-01-02-01-02-01-23.wav', 'Folder/Actor_23/03-01-03-02-01-01-23.wav', 'Folder/Actor_23/03-01-07-02-02-01-23.wav', 'Folder/Actor_23/03-01-07-01-01-02-23.wav', 'Folder/Actor_23/03-01-07-02-01-01-23.wav', 'Folder/Actor_23/03-01-08-01-01-02-23.wav', 'Folder/Actor_23/03-01-08-01-02-02-23.wav', 'Folder/Actor_23/03-01-02-02-02-01-23.wav', 'Folder/Actor_23/03-01-03-02-02-02-23.wav', 'Folder/Actor_23/03-01-02-02-02-02-23.wav', 'Folder/Actor_23/03-01-06-01-01-01-23.wav', 'Folder/Actor_23/03-01-08-02-02-02-23.wav', 'Folder/Actor_23/03-01-02-02-01-01-23.wav', 'Folder/Actor_23/03-01-05-02-01-02-23.wav', 'Folder/Actor_23/03-01-06-02-01-02-23.wav', 'Folder/Actor_23/03-01-04-02-02-01-23.wav', 'Folder/Actor_23/03-01-08-02-01-02-23.wav', 'Folder/Actor_23/03-01-06-01-02-02-23.wav', 'Folder/Actor_23/03-01-06-02-02-01-23.wav', 'Folder/Actor_23/03-01-06-01-01-02-23.wav', 'Folder/Actor_23/03-01-04-01-01-02-23.wav', 'Folder/Actor_23/03-01-07-01-02-01-23.wav', 'Folder/Actor_23/03-01-03-01-01-01-23.wav', 'Folder/Actor_23/03-01-06-02-01-01-23.wav', 'Folder/Actor_23/03-01-07-02-01-02-23.wav', 'Folder/Actor_24/03-01-01-01-01-02-24.wav', 'Folder/Actor_24/03-01-05-02-02-02-24.wav', 'Folder/Actor_24/03-01-08-02-02-01-24.wav', 'Folder/Actor_24/03-01-02-02-01-01-24.wav', 'Folder/Actor_24/03-01-04-01-02-01-24.wav', 'Folder/Actor_24/03-01-05-01-02-01-24.wav', 'Folder/Actor_24/03-01-02-02-01-02-24.wav', 'Folder/Actor_24/03-01-06-02-02-01-24.wav', 'Folder/Actor_24/03-01-02-01-01-02-24.wav', 'Folder/Actor_24/03-01-06-02-02-02-24.wav', 'Folder/Actor_24/03-01-07-02-01-02-24.wav', 'Folder/Actor_24/03-01-02-02-02-02-24.wav', 'Folder/Actor_24/03-01-03-02-02-01-24.wav', 'Folder/Actor_24/03-01-05-02-02-01-24.wav', 'Folder/Actor_24/03-01-08-01-01-02-24.wav', 'Folder/Actor_24/03-01-06-02-01-01-24.wav', 'Folder/Actor_24/03-01-07-02-02-01-24.wav', 'Folder/Actor_24/03-01-04-02-01-02-24.wav', 'Folder/Actor_24/03-01-07-01-01-01-24.wav', 'Folder/Actor_24/03-01-04-02-01-01-24.wav', 'Folder/Actor_24/03-01-08-02-01-01-24.wav', 'Folder/Actor_24/03-01-05-02-01-02-24.wav', 'Folder/Actor_24/03-01-08-02-01-02-24.wav', 'Folder/Actor_24/03-01-04-01-01-01-24.wav', 'Folder/Actor_24/03-01-07-01-02-01-24.wav', 'Folder/Actor_24/03-01-06-01-01-01-24.wav', 'Folder/Actor_24/03-01-03-01-02-01-24.wav', 'Folder/Actor_24/03-01-08-01-01-01-24.wav', 'Folder/Actor_24/03-01-05-02-01-01-24.wav', 'Folder/Actor_24/03-01-04-01-02-02-24.wav', 'Folder/Actor_24/03-01-04-02-02-01-24.wav', 'Folder/Actor_24/03-01-01-01-02-02-24.wav', 'Folder/Actor_24/03-01-03-02-01-01-24.wav', 'Folder/Actor_24/03-01-08-02-02-02-24.wav', 'Folder/Actor_24/03-01-04-02-02-02-24.wav', 'Folder/Actor_24/03-01-03-02-02-02-24.wav', 'Folder/Actor_24/03-01-01-01-02-01-24.wav', 'Folder/Actor_24/03-01-03-01-01-01-24.wav', 'Folder/Actor_24/03-01-03-01-02-02-24.wav', 'Folder/Actor_24/03-01-02-02-02-01-24.wav', 'Folder/Actor_24/03-01-01-01-01-01-24.wav', 'Folder/Actor_24/03-01-06-01-02-01-24.wav', 'Folder/Actor_24/03-01-05-01-01-02-24.wav', 'Folder/Actor_24/03-01-08-01-02-02-24.wav', 'Folder/Actor_24/03-01-08-01-02-01-24.wav', 'Folder/Actor_24/03-01-05-01-01-01-24.wav', 'Folder/Actor_24/03-01-07-02-02-02-24.wav', 'Folder/Actor_24/03-01-07-01-02-02-24.wav', 'Folder/Actor_24/03-01-05-01-02-02-24.wav', 'Folder/Actor_24/03-01-03-01-01-02-24.wav', 'Folder/Actor_24/03-01-07-01-01-02-24.wav', 'Folder/Actor_24/03-01-06-02-01-02-24.wav', 'Folder/Actor_24/03-01-07-02-01-01-24.wav', 'Folder/Actor_24/03-01-02-01-02-02-24.wav', 'Folder/Actor_24/03-01-04-01-01-02-24.wav', 'Folder/Actor_24/03-01-02-01-01-01-24.wav', 'Folder/Actor_24/03-01-02-01-02-01-24.wav', 'Folder/Actor_24/03-01-06-01-02-02-24.wav', 'Folder/Actor_24/03-01-03-02-01-02-24.wav', 'Folder/Actor_24/03-01-06-01-01-02-24.wav']\n"
          ],
          "name": "stdout"
        }
      ]
    },
    {
      "metadata": {
        "id": "pALSUJk6Cm8L",
        "colab_type": "code",
        "outputId": "38c655e2-61ec-418b-b4ad-3c10ca331a5d",
        "colab": {
          "base_uri": "https://localhost:8080/",
          "height": 36
        }
      },
      "cell_type": "code",
      "source": [
        "print(len(onlyfiles))\n",
        "import random\n",
        "random.shuffle(onlyfiles)"
      ],
      "execution_count": 0,
      "outputs": [
        {
          "output_type": "stream",
          "text": [
            "1440\n"
          ],
          "name": "stdout"
        }
      ]
    },
    {
      "metadata": {
        "id": "xTA5cvH8BIp0",
        "colab_type": "code",
        "outputId": "2ad5fd41-f43f-4b02-afa5-6dae72a9822a",
        "colab": {
          "base_uri": "https://localhost:8080/",
          "height": 55
        }
      },
      "cell_type": "code",
      "source": [
        "print(onlyfiles[0])\n",
        "print(onlyfiles[0].split('/')[-1].split('-')[2])"
      ],
      "execution_count": 0,
      "outputs": [
        {
          "output_type": "stream",
          "text": [
            "Folder/Actor_07/03-01-05-01-01-01-07.wav\n",
            "05\n"
          ],
          "name": "stdout"
        }
      ]
    },
    {
      "metadata": {
        "id": "XeVhQhk2D6UD",
        "colab_type": "code",
        "colab": {}
      },
      "cell_type": "code",
      "source": [
        "import librosa\n",
        "import numpy as np\n",
        "\n",
        "mapp = {'01':'NOT DEPRESSED',\n",
        "        '02':'NOT DEPRESSED',\n",
        "        '03':'NOT DEPRESSED',\n",
        "        '04':'DEPRESSED',\n",
        "        '05':'DEPRESSED',\n",
        "        '06':'DEPRESSED',\n",
        "        '07':'DEPRESSED',\n",
        "        '08':'NOT DEPRESSED'}\n",
        "# Third digit shows emotion : The label"
      ],
      "execution_count": 0,
      "outputs": []
    },
    {
      "metadata": {
        "id": "RhEGktm8-9GZ",
        "colab_type": "code",
        "outputId": "9c5d5d5c-788c-4c77-d322-9231afeba8b9",
        "colab": {
          "base_uri": "https://localhost:8080/",
          "height": 542
        }
      },
      "cell_type": "code",
      "source": [
        "i = 0\n",
        "X = []\n",
        "y = []\n",
        "\n",
        "for file_name in onlyfiles:\n",
        "  \n",
        "  # progress\n",
        "  i+=1\n",
        "  if not i%50:\n",
        "    print(i*100/1440, '% complete')\n",
        "  \n",
        "  # handle exception to check if there isn't a file which is corrupted\n",
        "  try:\n",
        "    # here kaiser_fast is a technique used for faster extraction\n",
        "    x, sample_rate = librosa.load(file_name, res_type='kaiser_fast') \n",
        "    # we extract mfcc feature from data\n",
        "    mfccs = np.mean(librosa.feature.mfcc(y=x, sr=sample_rate, n_mfcc=40).T,axis=0) \n",
        "    \n",
        "    # normalized_feature = normalize(mfccs.tolist())\n",
        "    feature = mfccs.tolist()\n",
        "    label = mapp[file_name.split('/')[-1].split('-')[2]]\n",
        "    \n",
        "  except Exception as e:\n",
        "    print(\"Error encountered while parsing file: \", file_name)\n",
        "    feature = None\n",
        "    label = None\n",
        "    \n",
        "  y.append(label)\n",
        "  X.append(feature)"
      ],
      "execution_count": 0,
      "outputs": [
        {
          "output_type": "stream",
          "text": [
            "3.4722222222222223 % complete\n",
            "6.944444444444445 % complete\n",
            "10.416666666666666 % complete\n",
            "13.88888888888889 % complete\n",
            "17.36111111111111 % complete\n",
            "20.833333333333332 % complete\n",
            "24.305555555555557 % complete\n",
            "27.77777777777778 % complete\n",
            "31.25 % complete\n",
            "34.72222222222222 % complete\n",
            "38.19444444444444 % complete\n",
            "41.666666666666664 % complete\n",
            "45.138888888888886 % complete\n",
            "48.611111111111114 % complete\n",
            "52.083333333333336 % complete\n",
            "55.55555555555556 % complete\n",
            "59.02777777777778 % complete\n",
            "62.5 % complete\n",
            "65.97222222222223 % complete\n",
            "69.44444444444444 % complete\n",
            "72.91666666666667 % complete\n",
            "76.38888888888889 % complete\n",
            "79.86111111111111 % complete\n",
            "83.33333333333333 % complete\n",
            "86.80555555555556 % complete\n",
            "90.27777777777777 % complete\n",
            "93.75 % complete\n",
            "97.22222222222223 % complete\n"
          ],
          "name": "stdout"
        }
      ]
    },
    {
      "metadata": {
        "id": "A_MFAOIuMgmn",
        "colab_type": "code",
        "colab": {}
      },
      "cell_type": "code",
      "source": [
        "# Save features and labels\n",
        "np.save('features.npy', X)\n",
        "np.save('labels.npy', y)"
      ],
      "execution_count": 0,
      "outputs": []
    },
    {
      "metadata": {
        "id": "ghzutKnVB5vd",
        "colab_type": "code",
        "outputId": "5763aa2b-fc5d-4ba3-e75a-53faf414abda",
        "colab": {
          "base_uri": "https://localhost:8080/",
          "height": 767
        }
      },
      "cell_type": "code",
      "source": [
        "X[0]"
      ],
      "execution_count": 0,
      "outputs": [
        {
          "output_type": "execute_result",
          "data": {
            "text/plain": [
              "[-518.5118709781789,\n",
              " 55.160882590601396,\n",
              " -14.272248790762255,\n",
              " 19.936637639391286,\n",
              " 1.1183220736283357,\n",
              " -2.5176596880127495,\n",
              " -4.485850354495975,\n",
              " -5.553578387779766,\n",
              " -9.25047141220279,\n",
              " 8.391398363707541,\n",
              " -4.889217776310182,\n",
              " 0.160894255446425,\n",
              " 4.615132257773569,\n",
              " -0.148179825583045,\n",
              " -5.609130169769845,\n",
              " 7.4902117649643625,\n",
              " -9.704181835444238,\n",
              " 2.4553226379821718,\n",
              " -2.9616676524317054,\n",
              " -1.1133671767087172,\n",
              " -4.15306004713316,\n",
              " 1.313156069007637,\n",
              " -4.301742576979036,\n",
              " 1.9547924623408128,\n",
              " -2.6621871190476916,\n",
              " 3.3001171380920558,\n",
              " -1.732170081128757,\n",
              " 3.3140679597783933,\n",
              " 0.0521616746049649,\n",
              " -0.5755115258184706,\n",
              " 1.339741386090576,\n",
              " 0.48407567675212787,\n",
              " 0.5077544117588014,\n",
              " 4.575676773742426,\n",
              " 6.942071892658215,\n",
              " 7.827391671425031,\n",
              " 3.849662775880031,\n",
              " 3.489663099996845,\n",
              " 1.9026735182793177,\n",
              " 4.839723763306694]"
            ]
          },
          "metadata": {
            "tags": []
          },
          "execution_count": 10
        }
      ]
    },
    {
      "metadata": {
        "id": "lvW79_FKIe0U",
        "colab_type": "code",
        "outputId": "9ed600fd-c7ef-4b6f-8cc7-129946197778",
        "colab": {
          "base_uri": "https://localhost:8080/",
          "height": 205
        }
      },
      "cell_type": "code",
      "source": [
        "import numpy as np\n",
        "from sklearn.model_selection import train_test_split\n",
        "from sklearn.preprocessing import StandardScaler\n",
        "from sklearn.datasets import make_moons, make_circles, make_classification\n",
        "from sklearn.neural_network import MLPClassifier\n",
        "from sklearn.neighbors import KNeighborsClassifier\n",
        "from sklearn.svm import SVC\n",
        "from sklearn.gaussian_process import GaussianProcessClassifier\n",
        "from sklearn.gaussian_process.kernels import RBF\n",
        "from sklearn.tree import DecisionTreeClassifier\n",
        "from sklearn.ensemble import RandomForestClassifier, AdaBoostClassifier\n",
        "from sklearn.naive_bayes import GaussianNB\n",
        "from sklearn.discriminant_analysis import QuadraticDiscriminantAnalysis\n",
        "\n",
        "names = [\"Nearest Neighbors\", \"Linear SVM\", \"RBF SVM\", \"Gaussian Process\",\n",
        "         \"Decision Tree\", \"Random Forest\", \"Neural Net\", \"AdaBoost\",\n",
        "         \"Naive Bayes\", \"QDA\"]\n",
        "\n",
        "classifiers = [\n",
        "    KNeighborsClassifier(3),\n",
        "    SVC(kernel=\"linear\", C=0.025),\n",
        "    SVC(gamma=2, C=1),\n",
        "    GaussianProcessClassifier(1.0 * RBF(1.0)),\n",
        "    DecisionTreeClassifier(max_depth=5),\n",
        "    RandomForestClassifier(max_depth=5, n_estimators=10, max_features=1),\n",
        "    MLPClassifier(alpha=1),\n",
        "    AdaBoostClassifier(),\n",
        "    GaussianNB(),\n",
        "    QuadraticDiscriminantAnalysis()]\n",
        "\n",
        "X_train, X_test, y_train, y_test = train_test_split(X, y, test_size=.4, random_state=42)\n",
        "\n",
        "for name, clf in zip(names, classifiers):\n",
        "  clf.fit(X_train, y_train)\n",
        "  score = clf.score(X_test, y_test)\n",
        "  print('{}: {}'.format(name, score))"
      ],
      "execution_count": 0,
      "outputs": [
        {
          "output_type": "stream",
          "text": [
            "Nearest Neighbors: 0.671875\n",
            "Linear SVM: 0.6753472222222222\n",
            "RBF SVM: 0.5503472222222222\n",
            "Gaussian Process: 0.6979166666666666\n",
            "Decision Tree: 0.5763888888888888\n",
            "Random Forest: 0.6232638888888888\n",
            "Neural Net: 0.6822916666666666\n",
            "AdaBoost: 0.6267361111111112\n",
            "Naive Bayes: 0.5920138888888888\n",
            "QDA: 0.7100694444444444\n"
          ],
          "name": "stdout"
        }
      ]
    },
    {
      "metadata": {
        "id": "jI1N5kdExI7H",
        "colab_type": "code",
        "colab": {}
      },
      "cell_type": "code",
      "source": [
        "# Nearest Neighbors: 0.6996527777777778\n",
        "# Linear SVM: 0.6354166666666666\n",
        "# RBF SVM: 0.546875\n",
        "# Gaussian Process: 0.7395833333333334\n",
        "# Decision Tree: 0.5989583333333334\n",
        "# Random Forest: 0.6111111111111112\n",
        "# Neural Net: 0.6545138888888888\n",
        "# AdaBoost: 0.6614583333333334\n",
        "# Naive Bayes: 0.5607638888888888\n",
        "# QDA: 0.6875"
      ],
      "execution_count": 0,
      "outputs": []
    },
    {
      "metadata": {
        "id": "kDNWayaVm6YU",
        "colab_type": "code",
        "colab": {}
      },
      "cell_type": "code",
      "source": [
        "import pickle\n",
        "# save the classifier\n",
        "with open('Neural Net.pkl', 'wb') as f:\n",
        "    pickle.dump(classifiers[6], f) "
      ],
      "execution_count": 0,
      "outputs": []
    },
    {
      "metadata": {
        "id": "TKdgLAng1Rt6",
        "colab_type": "code",
        "outputId": "7eed66fd-ef44-422d-d238-08dae1b4752a",
        "colab": {
          "base_uri": "https://localhost:8080/",
          "height": 36
        }
      },
      "cell_type": "code",
      "source": [
        "classifiers[6].predict([X[0]])[0]"
      ],
      "execution_count": 0,
      "outputs": [
        {
          "output_type": "execute_result",
          "data": {
            "text/plain": [
              "'DEPRESSED'"
            ]
          },
          "metadata": {
            "tags": []
          },
          "execution_count": 16
        }
      ]
    }
  ]
}